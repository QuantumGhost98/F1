{
 "cells": [
  {
   "cell_type": "markdown",
   "metadata": {},
   "source": [
    "# **Race Pace Analysis for F1 FP2 Sessions**\n",
    "\n",
    "## **Objective**\n",
    "This project aims to develop a machine learning pipeline to identify **race pace laps** from FP2 sessions of Formula 1 events. Race pace laps are those that represent consistent lap times a driver can maintain over a stint, excluding qualifying-style laps or outliers.\n",
    "\n",
    "The project involves:\n",
    "- Loading and preprocessing FP2 session data for multiple F1 events.\n",
    "- Engineering relevant features (e.g., lap time differences and consistency).\n",
    "- Training a machine learning model to classify race pace laps.\n",
    "- Applying the trained model to unseen data and filtering results for meaningful insights.\n"
   ]
  },
  {
   "cell_type": "code",
   "execution_count": 1,
   "metadata": {},
   "outputs": [],
   "source": [
    "import matplotlib.pyplot as plt\n",
    "import numpy as np\n",
    "import fastf1.plotting\n",
    "import seaborn as sns\n",
    "import pandas as pd\n",
    "import matplotlib.ticker as ticker\n",
    "from fastf1 import utils\n",
    "import random\n",
    "from sklearn.model_selection import train_test_split\n",
    "from sklearn.ensemble import RandomForestClassifier\n",
    "from sklearn.linear_model import LogisticRegression\n",
    "from sklearn.metrics import classification_report, accuracy_score\n",
    "import joblib\n",
    "from sklearn.preprocessing import StandardScaler\n",
    "from sklearn.pipeline import Pipeline\n",
    "#from sklearn.cluster import KMeans\n",
    "\n",
    "# FastF1's default color scheme\n",
    "fastf1.plotting.setup_mpl(misc_mpl_mods=False, color_scheme='fastf1' )"
   ]
  },
  {
   "cell_type": "markdown",
   "metadata": {},
   "source": [
    "## **Loading FP2 Data**\n",
    "\n",
    "### **Description**\n",
    "- **Dataset**: FP2 sessions of non-sprint F1 events from the 2024 calendar.\n",
    "- **Process**:\n",
    "  1. **Filter Out Box and Inaccurate Laps**: Only valid laps are retained.\n",
    "  2. **Transform Lap Times**: Convert lap times to seconds for numerical analysis."
   ]
  },
  {
   "cell_type": "code",
   "execution_count": 2,
   "metadata": {},
   "outputs": [
    {
     "name": "stderr",
     "output_type": "stream",
     "text": [
      "req         WARNING \tDEFAULT CACHE ENABLED! (7.7 GB) /Users/PietroPaolo/Library/Caches/fastf1\n",
      "core           INFO \tLoading data for Bahrain Grand Prix - Practice 2 [v3.5.3]\n",
      "req            INFO \tUsing cached data for session_info\n",
      "req            INFO \tUsing cached data for driver_info\n",
      "req            INFO \tUsing cached data for session_status_data\n",
      "req            INFO \tUsing cached data for track_status_data\n",
      "req            INFO \tUsing cached data for _extended_timing_data\n",
      "req            INFO \tUsing cached data for timing_app_data\n",
      "core           INFO \tProcessing timing data...\n",
      "req            INFO \tUsing cached data for car_data\n",
      "req            INFO \tUsing cached data for position_data\n",
      "req            INFO \tUsing cached data for weather_data\n",
      "req            INFO \tUsing cached data for race_control_messages\n",
      "core           INFO \tFinished loading data for 20 drivers: ['1', '2', '3', '4', '10', '11', '14', '16', '18', '20', '22', '23', '24', '27', '31', '44', '55', '63', '77', '81']\n",
      "core           INFO \tLoading data for Saudi Arabian Grand Prix - Practice 2 [v3.5.3]\n",
      "req            INFO \tUsing cached data for session_info\n",
      "req            INFO \tUsing cached data for driver_info\n",
      "req            INFO \tUsing cached data for session_status_data\n",
      "req            INFO \tUsing cached data for track_status_data\n",
      "req            INFO \tUsing cached data for _extended_timing_data\n",
      "req            INFO \tUsing cached data for timing_app_data\n",
      "core           INFO \tProcessing timing data...\n"
     ]
    },
    {
     "name": "stdout",
     "output_type": "stream",
     "text": [
      "Transformed laps for Bahrain Grand Prix FP2 loaded successfully.\n"
     ]
    },
    {
     "name": "stderr",
     "output_type": "stream",
     "text": [
      "req            INFO \tUsing cached data for car_data\n",
      "req            INFO \tUsing cached data for position_data\n",
      "req            INFO \tUsing cached data for weather_data\n",
      "req            INFO \tUsing cached data for race_control_messages\n",
      "core           INFO \tFinished loading data for 20 drivers: ['1', '2', '3', '4', '10', '11', '14', '16', '18', '20', '22', '23', '24', '27', '31', '44', '55', '63', '77', '81']\n",
      "core           INFO \tLoading data for Australian Grand Prix - Practice 2 [v3.5.3]\n",
      "req            INFO \tUsing cached data for session_info\n",
      "req            INFO \tUsing cached data for driver_info\n",
      "req            INFO \tUsing cached data for session_status_data\n",
      "req            INFO \tUsing cached data for track_status_data\n",
      "req            INFO \tUsing cached data for _extended_timing_data\n",
      "req            INFO \tUsing cached data for timing_app_data\n",
      "core           INFO \tProcessing timing data...\n"
     ]
    },
    {
     "name": "stdout",
     "output_type": "stream",
     "text": [
      "Transformed laps for Saudi Arabian Grand Prix FP2 loaded successfully.\n"
     ]
    },
    {
     "name": "stderr",
     "output_type": "stream",
     "text": [
      "core        WARNING \tNo lap data for driver 23\n",
      "core        WARNING \tFailed to perform lap accuracy check - all laps marked as inaccurate (driver 23)\n",
      "req            INFO \tUsing cached data for car_data\n",
      "req            INFO \tUsing cached data for position_data\n",
      "req            INFO \tUsing cached data for weather_data\n",
      "req            INFO \tUsing cached data for race_control_messages\n",
      "core           INFO \tFinished loading data for 20 drivers: ['1', '2', '3', '4', '10', '11', '14', '16', '18', '20', '22', '23', '24', '27', '31', '44', '55', '63', '77', '81']\n",
      "core           INFO \tLoading data for Japanese Grand Prix - Practice 2 [v3.5.3]\n",
      "req            INFO \tUsing cached data for session_info\n",
      "req            INFO \tUsing cached data for driver_info\n",
      "req            INFO \tUsing cached data for session_status_data\n",
      "req            INFO \tUsing cached data for track_status_data\n",
      "req            INFO \tUsing cached data for _extended_timing_data\n",
      "req            INFO \tUsing cached data for timing_app_data\n",
      "core           INFO \tProcessing timing data...\n",
      "core        WARNING \tNo lap data for driver 1\n",
      "core        WARNING \tNo lap data for driver 2\n",
      "core        WARNING \tNo lap data for driver 10\n",
      "core        WARNING \tNo lap data for driver 11\n",
      "core        WARNING \tNo lap data for driver 14\n",
      "core        WARNING \tNo lap data for driver 18\n",
      "core        WARNING \tNo lap data for driver 63\n",
      "core        WARNING \tFailed to perform lap accuracy check - all laps marked as inaccurate (driver 1)\n"
     ]
    },
    {
     "name": "stdout",
     "output_type": "stream",
     "text": [
      "Transformed laps for Australian Grand Prix FP2 loaded successfully.\n"
     ]
    },
    {
     "name": "stderr",
     "output_type": "stream",
     "text": [
      "core        WARNING \tFailed to perform lap accuracy check - all laps marked as inaccurate (driver 2)\n",
      "core        WARNING \tFailed to perform lap accuracy check - all laps marked as inaccurate (driver 10)\n",
      "core        WARNING \tFailed to perform lap accuracy check - all laps marked as inaccurate (driver 11)\n",
      "core        WARNING \tFailed to perform lap accuracy check - all laps marked as inaccurate (driver 14)\n",
      "core        WARNING \tFailed to perform lap accuracy check - all laps marked as inaccurate (driver 18)\n",
      "core        WARNING \tFailed to perform lap accuracy check - all laps marked as inaccurate (driver 63)\n",
      "req            INFO \tUsing cached data for car_data\n",
      "req            INFO \tUsing cached data for position_data\n",
      "req            INFO \tUsing cached data for weather_data\n",
      "req            INFO \tUsing cached data for race_control_messages\n",
      "core           INFO \tFinished loading data for 20 drivers: ['1', '2', '3', '4', '10', '11', '14', '16', '18', '20', '22', '23', '24', '27', '31', '44', '55', '63', '77', '81']\n",
      "core           INFO \tLoading data for Emilia Romagna Grand Prix - Practice 2 [v3.5.3]\n",
      "req            INFO \tUsing cached data for session_info\n",
      "req            INFO \tUsing cached data for driver_info\n",
      "req            INFO \tUsing cached data for session_status_data\n",
      "req            INFO \tUsing cached data for track_status_data\n",
      "req            INFO \tUsing cached data for _extended_timing_data\n",
      "req            INFO \tUsing cached data for timing_app_data\n",
      "core           INFO \tProcessing timing data...\n"
     ]
    },
    {
     "name": "stdout",
     "output_type": "stream",
     "text": [
      "Transformed laps for Japanese Grand Prix FP2 loaded successfully.\n"
     ]
    },
    {
     "name": "stderr",
     "output_type": "stream",
     "text": [
      "req            INFO \tUsing cached data for car_data\n",
      "req            INFO \tUsing cached data for position_data\n",
      "req            INFO \tUsing cached data for weather_data\n",
      "req            INFO \tUsing cached data for race_control_messages\n",
      "core           INFO \tFinished loading data for 20 drivers: ['1', '2', '3', '4', '10', '11', '14', '16', '18', '20', '22', '23', '24', '27', '31', '44', '55', '63', '77', '81']\n",
      "core           INFO \tLoading data for Canadian Grand Prix - Practice 2 [v3.5.3]\n",
      "req            INFO \tUsing cached data for session_info\n",
      "req            INFO \tUsing cached data for driver_info\n",
      "req            INFO \tUsing cached data for session_status_data\n",
      "req            INFO \tUsing cached data for track_status_data\n",
      "req            INFO \tUsing cached data for _extended_timing_data\n",
      "req            INFO \tUsing cached data for timing_app_data\n",
      "core           INFO \tProcessing timing data...\n"
     ]
    },
    {
     "name": "stdout",
     "output_type": "stream",
     "text": [
      "Transformed laps for Emilia Romagna Grand Prix FP2 loaded successfully.\n"
     ]
    },
    {
     "name": "stderr",
     "output_type": "stream",
     "text": [
      "req            INFO \tUsing cached data for car_data\n",
      "req            INFO \tUsing cached data for position_data\n",
      "req            INFO \tUsing cached data for weather_data\n",
      "req            INFO \tUsing cached data for race_control_messages\n",
      "core           INFO \tFinished loading data for 20 drivers: ['1', '2', '3', '4', '10', '11', '14', '16', '18', '20', '22', '23', '24', '27', '31', '44', '55', '63', '77', '81']\n",
      "core           INFO \tLoading data for Spanish Grand Prix - Practice 2 [v3.5.3]\n",
      "req            INFO \tUsing cached data for session_info\n",
      "req            INFO \tUsing cached data for driver_info\n",
      "req            INFO \tUsing cached data for session_status_data\n",
      "req            INFO \tUsing cached data for track_status_data\n",
      "req            INFO \tUsing cached data for _extended_timing_data\n",
      "req            INFO \tUsing cached data for timing_app_data\n",
      "core           INFO \tProcessing timing data...\n"
     ]
    },
    {
     "name": "stdout",
     "output_type": "stream",
     "text": [
      "Transformed laps for Canadian Grand Prix FP2 loaded successfully.\n"
     ]
    },
    {
     "name": "stderr",
     "output_type": "stream",
     "text": [
      "req            INFO \tUsing cached data for car_data\n",
      "req            INFO \tUsing cached data for position_data\n",
      "req            INFO \tUsing cached data for weather_data\n",
      "req            INFO \tUsing cached data for race_control_messages\n",
      "core           INFO \tFinished loading data for 20 drivers: ['1', '2', '3', '4', '10', '11', '14', '16', '18', '20', '22', '23', '24', '27', '31', '44', '55', '63', '77', '81']\n",
      "core           INFO \tLoading data for British Grand Prix - Practice 2 [v3.5.3]\n",
      "req            INFO \tUsing cached data for session_info\n",
      "req            INFO \tUsing cached data for driver_info\n",
      "req            INFO \tUsing cached data for session_status_data\n",
      "req            INFO \tUsing cached data for track_status_data\n",
      "req            INFO \tUsing cached data for _extended_timing_data\n",
      "req            INFO \tUsing cached data for timing_app_data\n",
      "core           INFO \tProcessing timing data...\n"
     ]
    },
    {
     "name": "stdout",
     "output_type": "stream",
     "text": [
      "Transformed laps for Spanish Grand Prix FP2 loaded successfully.\n"
     ]
    },
    {
     "name": "stderr",
     "output_type": "stream",
     "text": [
      "req            INFO \tUsing cached data for car_data\n",
      "req            INFO \tUsing cached data for position_data\n",
      "req            INFO \tUsing cached data for weather_data\n",
      "req            INFO \tUsing cached data for race_control_messages\n",
      "core           INFO \tFinished loading data for 20 drivers: ['1', '2', '3', '4', '10', '11', '14', '16', '18', '20', '22', '23', '24', '27', '31', '44', '55', '63', '77', '81']\n",
      "core           INFO \tLoading data for Hungarian Grand Prix - Practice 2 [v3.5.3]\n",
      "req            INFO \tUsing cached data for session_info\n",
      "req            INFO \tUsing cached data for driver_info\n",
      "req            INFO \tUsing cached data for session_status_data\n",
      "req            INFO \tUsing cached data for track_status_data\n",
      "req            INFO \tUsing cached data for _extended_timing_data\n",
      "req            INFO \tUsing cached data for timing_app_data\n",
      "core           INFO \tProcessing timing data...\n"
     ]
    },
    {
     "name": "stdout",
     "output_type": "stream",
     "text": [
      "Transformed laps for British Grand Prix FP2 loaded successfully.\n"
     ]
    },
    {
     "name": "stderr",
     "output_type": "stream",
     "text": [
      "req            INFO \tUsing cached data for car_data\n",
      "req            INFO \tUsing cached data for position_data\n",
      "req            INFO \tUsing cached data for weather_data\n",
      "req            INFO \tUsing cached data for race_control_messages\n",
      "core           INFO \tFinished loading data for 20 drivers: ['1', '2', '3', '4', '10', '11', '14', '16', '18', '20', '22', '23', '24', '27', '31', '44', '55', '63', '77', '81']\n",
      "core           INFO \tLoading data for Belgian Grand Prix - Practice 2 [v3.5.3]\n",
      "req            INFO \tUsing cached data for session_info\n",
      "req            INFO \tUsing cached data for driver_info\n",
      "req            INFO \tUsing cached data for session_status_data\n",
      "req            INFO \tUsing cached data for track_status_data\n",
      "req            INFO \tUsing cached data for _extended_timing_data\n",
      "req            INFO \tUsing cached data for timing_app_data\n",
      "core           INFO \tProcessing timing data...\n"
     ]
    },
    {
     "name": "stdout",
     "output_type": "stream",
     "text": [
      "Transformed laps for Hungarian Grand Prix FP2 loaded successfully.\n"
     ]
    },
    {
     "name": "stderr",
     "output_type": "stream",
     "text": [
      "req            INFO \tUsing cached data for car_data\n",
      "req            INFO \tUsing cached data for position_data\n",
      "req            INFO \tUsing cached data for weather_data\n",
      "req            INFO \tUsing cached data for race_control_messages\n",
      "core           INFO \tFinished loading data for 20 drivers: ['1', '2', '3', '4', '10', '11', '14', '16', '18', '20', '22', '23', '24', '27', '31', '44', '55', '63', '77', '81']\n",
      "core           INFO \tLoading data for Dutch Grand Prix - Practice 2 [v3.5.3]\n",
      "req            INFO \tUsing cached data for session_info\n",
      "req            INFO \tUsing cached data for driver_info\n",
      "req            INFO \tUsing cached data for session_status_data\n",
      "req            INFO \tUsing cached data for track_status_data\n",
      "req            INFO \tUsing cached data for _extended_timing_data\n",
      "req            INFO \tUsing cached data for timing_app_data\n",
      "core           INFO \tProcessing timing data...\n"
     ]
    },
    {
     "name": "stdout",
     "output_type": "stream",
     "text": [
      "Transformed laps for Belgian Grand Prix FP2 loaded successfully.\n"
     ]
    },
    {
     "name": "stderr",
     "output_type": "stream",
     "text": [
      "req            INFO \tUsing cached data for car_data\n",
      "req            INFO \tUsing cached data for position_data\n",
      "req            INFO \tUsing cached data for weather_data\n",
      "req            INFO \tUsing cached data for race_control_messages\n",
      "core           INFO \tFinished loading data for 20 drivers: ['1', '2', '3', '4', '10', '11', '14', '16', '18', '20', '22', '23', '24', '27', '31', '44', '55', '63', '77', '81']\n",
      "core           INFO \tLoading data for Italian Grand Prix - Practice 2 [v3.5.3]\n",
      "req            INFO \tUsing cached data for session_info\n",
      "req            INFO \tUsing cached data for driver_info\n",
      "req            INFO \tUsing cached data for session_status_data\n",
      "req            INFO \tUsing cached data for track_status_data\n",
      "req            INFO \tUsing cached data for _extended_timing_data\n",
      "req            INFO \tUsing cached data for timing_app_data\n",
      "core           INFO \tProcessing timing data...\n"
     ]
    },
    {
     "name": "stdout",
     "output_type": "stream",
     "text": [
      "Transformed laps for Dutch Grand Prix FP2 loaded successfully.\n"
     ]
    },
    {
     "name": "stderr",
     "output_type": "stream",
     "text": [
      "req            INFO \tUsing cached data for car_data\n",
      "req            INFO \tUsing cached data for position_data\n",
      "req            INFO \tUsing cached data for weather_data\n",
      "req            INFO \tUsing cached data for race_control_messages\n",
      "core           INFO \tFinished loading data for 20 drivers: ['1', '3', '4', '10', '11', '14', '16', '18', '20', '22', '23', '24', '27', '31', '43', '44', '55', '63', '77', '81']\n",
      "core           INFO \tLoading data for Singapore Grand Prix - Practice 2 [v3.5.3]\n",
      "req            INFO \tUsing cached data for session_info\n",
      "req            INFO \tUsing cached data for driver_info\n",
      "req            INFO \tUsing cached data for session_status_data\n",
      "req            INFO \tUsing cached data for track_status_data\n",
      "req            INFO \tUsing cached data for _extended_timing_data\n",
      "req            INFO \tUsing cached data for timing_app_data\n",
      "core           INFO \tProcessing timing data...\n"
     ]
    },
    {
     "name": "stdout",
     "output_type": "stream",
     "text": [
      "Transformed laps for Italian Grand Prix FP2 loaded successfully.\n"
     ]
    },
    {
     "name": "stderr",
     "output_type": "stream",
     "text": [
      "req            INFO \tUsing cached data for car_data\n",
      "req            INFO \tUsing cached data for position_data\n",
      "req            INFO \tUsing cached data for weather_data\n",
      "req            INFO \tUsing cached data for race_control_messages\n",
      "core           INFO \tFinished loading data for 20 drivers: ['1', '3', '4', '10', '11', '14', '16', '18', '20', '22', '23', '24', '27', '31', '43', '44', '55', '63', '77', '81']\n",
      "events      WARNING \tCorrecting user input 'Mexican Grand Prix' to 'Mexico City Grand Prix'\n",
      "core           INFO \tLoading data for Mexico City Grand Prix - Practice 2 [v3.5.3]\n",
      "req            INFO \tUsing cached data for session_info\n",
      "req            INFO \tUsing cached data for driver_info\n",
      "req            INFO \tUsing cached data for session_status_data\n",
      "req            INFO \tUsing cached data for track_status_data\n",
      "req            INFO \tUsing cached data for _extended_timing_data\n",
      "req            INFO \tUsing cached data for timing_app_data\n",
      "core           INFO \tProcessing timing data...\n"
     ]
    },
    {
     "name": "stdout",
     "output_type": "stream",
     "text": [
      "Transformed laps for Singapore Grand Prix FP2 loaded successfully.\n"
     ]
    },
    {
     "name": "stderr",
     "output_type": "stream",
     "text": [
      "core        WARNING \tNo lap data for driver 23\n",
      "core        WARNING \tFailed to perform lap accuracy check - all laps marked as inaccurate (driver 23)\n",
      "req            INFO \tUsing cached data for car_data\n",
      "req            INFO \tUsing cached data for position_data\n",
      "req            INFO \tUsing cached data for weather_data\n",
      "req            INFO \tUsing cached data for race_control_messages\n",
      "core           INFO \tFinished loading data for 20 drivers: ['1', '4', '10', '11', '14', '16', '18', '20', '22', '23', '24', '27', '30', '31', '43', '44', '55', '63', '77', '81']\n",
      "core           INFO \tLoading data for Las Vegas Grand Prix - Practice 2 [v3.5.3]\n",
      "req            INFO \tUsing cached data for session_info\n",
      "req            INFO \tUsing cached data for driver_info\n",
      "req            INFO \tUsing cached data for session_status_data\n",
      "req            INFO \tUsing cached data for track_status_data\n",
      "req            INFO \tUsing cached data for _extended_timing_data\n",
      "req            INFO \tUsing cached data for timing_app_data\n",
      "core           INFO \tProcessing timing data...\n"
     ]
    },
    {
     "name": "stdout",
     "output_type": "stream",
     "text": [
      "Transformed laps for Mexican Grand Prix FP2 loaded successfully.\n"
     ]
    },
    {
     "name": "stderr",
     "output_type": "stream",
     "text": [
      "req            INFO \tUsing cached data for car_data\n",
      "req            INFO \tUsing cached data for position_data\n",
      "req            INFO \tUsing cached data for weather_data\n",
      "req            INFO \tUsing cached data for race_control_messages\n",
      "core           INFO \tFinished loading data for 20 drivers: ['1', '4', '10', '11', '14', '16', '18', '20', '22', '23', '24', '27', '30', '31', '43', '44', '55', '63', '77', '81']\n",
      "core           INFO \tLoading data for Abu Dhabi Grand Prix - Practice 2 [v3.5.3]\n",
      "req            INFO \tUsing cached data for session_info\n",
      "req            INFO \tUsing cached data for driver_info\n",
      "req            INFO \tUsing cached data for session_status_data\n",
      "req            INFO \tUsing cached data for track_status_data\n",
      "req            INFO \tUsing cached data for _extended_timing_data\n",
      "req            INFO \tUsing cached data for timing_app_data\n",
      "core           INFO \tProcessing timing data...\n"
     ]
    },
    {
     "name": "stdout",
     "output_type": "stream",
     "text": [
      "Transformed laps for Las Vegas Grand Prix FP2 loaded successfully.\n"
     ]
    },
    {
     "name": "stderr",
     "output_type": "stream",
     "text": [
      "req            INFO \tUsing cached data for car_data\n",
      "req            INFO \tUsing cached data for position_data\n",
      "req            INFO \tUsing cached data for weather_data\n",
      "req            INFO \tUsing cached data for race_control_messages\n",
      "core           INFO \tFinished loading data for 20 drivers: ['1', '4', '10', '11', '14', '16', '18', '20', '22', '23', '24', '27', '30', '43', '44', '55', '61', '63', '77', '81']\n"
     ]
    },
    {
     "name": "stdout",
     "output_type": "stream",
     "text": [
      "Transformed laps for Abu Dhabi Grand Prix FP2 loaded successfully.\n"
     ]
    }
   ],
   "source": [
    "# List of non-sprint events in the 2024 F1 calendar\n",
    "non_sprint_events = [\n",
    "    'Bahrain Grand Prix',\n",
    "    'Saudi Arabian Grand Prix',\n",
    "    'Australian Grand Prix',\n",
    "    'Japanese Grand Prix',\n",
    "    'Emilia Romagna Grand Prix',\n",
    "    'Canadian Grand Prix',\n",
    "    'Spanish Grand Prix',\n",
    "    'British Grand Prix',\n",
    "    'Hungarian Grand Prix',\n",
    "    'Belgian Grand Prix',\n",
    "    'Dutch Grand Prix',\n",
    "    'Italian Grand Prix',\n",
    "    'Singapore Grand Prix',\n",
    "    'Mexican Grand Prix',\n",
    "    'Las Vegas Grand Prix',\n",
    "    'Abu Dhabi Grand Prix'\n",
    "]\n",
    "\n",
    "transformed_laps_dataframes = {}\n",
    "\n",
    "\n",
    "for event in non_sprint_events:\n",
    "    try:\n",
    "        # Load the FP2 session\n",
    "        session = fastf1.get_session(2024, event, 'FP2')\n",
    "        session.load()\n",
    "        \n",
    "        # Filter out box laps and keep only accurate laps\n",
    "        laps = session.laps.pick_wo_box()\n",
    "        laps = laps[laps['IsAccurate'] == True]\n",
    "        \n",
    "        # Transform laps: add a new column for lap times in seconds\n",
    "        transformed_laps = laps.copy()\n",
    "        transformed_laps.loc[:, \"LapTime (s)\"] = laps[\"LapTime\"].dt.total_seconds()\n",
    "        \n",
    "        # Store the transformed dataframe in the dictionary\n",
    "        transformed_laps_dataframes[event] = transformed_laps\n",
    "        print(f\"Transformed laps for {event} FP2 loaded successfully.\")\n",
    "    except Exception as e:\n",
    "        print(f\"Failed to load data for {event}: {e}\")"
   ]
  },
  {
   "cell_type": "markdown",
   "metadata": {},
   "source": [
    "## **Feature Engineering and Data Labeling**\n",
    "\n",
    "### **Overview**\n",
    "The `label_race_pace` function preprocesses the lap times for individual drivers and adds the following features:\n",
    "1. **Outlier Removal**:\n",
    "   - The fastest and slowest laps are removed to focus on laps representative of the driver's pace.\n",
    "2. **Race Pace Labeling**:\n",
    "   - Laps within a specified time range (`min_time` and `max_time`) are labeled as race pace laps (`is_race_pace = 1`).\n",
    "3. **Lap Time Difference**:\n",
    "   - The absolute difference between consecutive lap times is calculated.\n",
    "4. **Consistency Feature**:\n",
    "   - Consistency is determined based on whether the rolling range of lap times (grouped by windows) falls within a threshold (`max_diff`).\n",
    "\n",
    "### **Key Features**\n",
    "- **LapTime (s)**: Lap time in seconds.\n",
    "- **LapTimeDifference**: Difference between consecutive laps.\n",
    "- **Consistency**: Binary flag indicating if laps within a rolling window are consistent."
   ]
  },
  {
   "cell_type": "code",
   "execution_count": 3,
   "metadata": {},
   "outputs": [],
   "source": [
    "def label_race_pace(dataframe, driver, min_time, max_time):\n",
    "    # Keep LapTime, Stint, LapNumber (and any ID you need like Driver if not implicit)\n",
    "    driver_data = dataframe.pick_drivers(driver)[[\n",
    "        'LapTime (s)', 'Stint', 'LapNumber'\n",
    "    ]].copy()\n",
    "\n",
    "    if driver_data.empty:\n",
    "        print(f\"No data for driver: {driver}\")\n",
    "        return None\n",
    "\n",
    "    # Remove fastest and slowest laps\n",
    "    n_to_remove = 1\n",
    "    driver_data = driver_data.sort_values('LapTime (s)').iloc[n_to_remove:-n_to_remove]\n",
    "    driver_data = driver_data.reset_index(drop=True)\n",
    "\n",
    "    # ... existing logic to compute LapTimeDifference, Consistency, is_race_pace, etc.\n",
    "    # Make sure when you create those new columns you do it on driver_data and do not drop 'Stint'.\n",
    "\n",
    "    # Reset the index after filtering\n",
    "    driver_data = driver_data.reset_index(drop=True)\n",
    "\n",
    "    # **2. Assign is_race_pace Based on Range**\n",
    "    driver_data['is_race_pace'] = 0  # Default to 0\n",
    "    driver_data.loc[\n",
    "        (driver_data['LapTime (s)'] >= min_time) & \n",
    "        (driver_data['LapTime (s)'] <= max_time), \n",
    "        'is_race_pace'\n",
    "    ] = 1\n",
    "\n",
    "    # **3. Calculate LapTimeDifference**\n",
    "    driver_data['LapTimeDifference'] = driver_data['LapTime (s)'].diff(periods = -1 ).abs()\n",
    "\n",
    "    driver_data = driver_data.dropna(subset=['LapTimeDifference']).reset_index(drop=True)\n",
    "\n",
    "    # **4. Add Consistency Feature with Non-Overlapping Rolling**\n",
    "    window_size = 5  # Non-overlapping group size\n",
    "    max_diff = 3   # Maximum allowed difference for consistency\n",
    "\n",
    "    # Assign groups for non-overlapping rolling\n",
    "    driver_data['Group'] = (driver_data.index // window_size)\n",
    "\n",
    "    # Calculate max, min, and range for each group\n",
    "    grouped = driver_data.groupby('Group')['LapTime (s)'].agg(['max', 'min']).reset_index()\n",
    "    grouped['RollingRange'] = grouped['max'] - grouped['min']\n",
    "\n",
    "    # Map RollingRange back to the original dataframe\n",
    "    driver_data = driver_data.merge(grouped[['Group', 'RollingRange']], on='Group', how='left')\n",
    "\n",
    "    # Add a Consistency flag (1 if within range, 0 otherwise)\n",
    "    driver_data['Consistency'] = (driver_data['RollingRange'] <= max_diff).astype(int)\n",
    "\n",
    "    # Drop intermediate columns to keep the dataframe clean\n",
    "    driver_data.drop(columns=['Group', 'RollingRange'], inplace=True)\n",
    "\n",
    "    return driver_data\n",
    "\n",
    "\n",
    "# Bahrain\n",
    "bahrain_pia = label_race_pace(transformed_laps_dataframes[non_sprint_events[0]], 'PIA', 95, 98).reset_index()\n",
    "bahrain_oco = label_race_pace(transformed_laps_dataframes[non_sprint_events[0]], 'OCO', 97, 100).reset_index()\n",
    "bahrain_bot = label_race_pace(transformed_laps_dataframes[non_sprint_events[0]], 'BOT', 97, 99).reset_index()\n",
    "bahrain_ver = label_race_pace(transformed_laps_dataframes[non_sprint_events[0]], 'VER', 96, 98).reset_index()\n",
    "\n",
    "# Saudi Arabian\n",
    "saudi_lec = label_race_pace(transformed_laps_dataframes[non_sprint_events[1]], 'LEC', 93, 96).reset_index()\n",
    "saudi_hul = label_race_pace(transformed_laps_dataframes[non_sprint_events[1]], 'HUL', 94.5, 96.5).reset_index()\n",
    "saudi_alb = label_race_pace(transformed_laps_dataframes[non_sprint_events[1]], 'ALB', 94, 96).reset_index()\n",
    "\n",
    "\n",
    "# Australia\n",
    "australia_nor = label_race_pace(transformed_laps_dataframes[non_sprint_events[2]], 'NOR', 82.5, 84).reset_index()\n",
    "australia_lec = label_race_pace(transformed_laps_dataframes[non_sprint_events[2]], 'LEC', 82, 84).reset_index()\n",
    "australia_str = label_race_pace(transformed_laps_dataframes[non_sprint_events[2]], 'STR', 82, 84).reset_index()\n",
    "australia_rus = label_race_pace(transformed_laps_dataframes[non_sprint_events[2]], 'RUS', 83, 85).reset_index()\n",
    "\n",
    "\n",
    "# Imola\n",
    "imola_mag = label_race_pace(transformed_laps_dataframes[non_sprint_events[4]], 'MAG', 81, 83).reset_index()\n",
    "imola_alo = label_race_pace(transformed_laps_dataframes[non_sprint_events[4]], 'ALO', 81, 83).reset_index()\n",
    "imola_zho = label_race_pace(transformed_laps_dataframes[non_sprint_events[4]], 'ZHO', 81, 83).reset_index()\n",
    "\n",
    "#Spain\n",
    "\n",
    "spain_ver = label_race_pace(transformed_laps_dataframes[non_sprint_events[4]], 'VER', 79, 82).reset_index()\n",
    "spain_nor = label_race_pace(transformed_laps_dataframes[non_sprint_events[4]], 'NOR', 78, 81.5).reset_index()\n",
    "spain_ham = label_race_pace(transformed_laps_dataframes[non_sprint_events[4]], 'HAM', 79, 82).reset_index()\n",
    "\n",
    "#Belgium\n",
    "\n",
    "belg_lec = label_race_pace(transformed_laps_dataframes[non_sprint_events[9]], 'LEC', 109, 112).reset_index()\n",
    "belg_alb = label_race_pace(transformed_laps_dataframes[non_sprint_events[9]], 'ALB', 108, 111).reset_index()\n",
    "belg_bot = label_race_pace(transformed_laps_dataframes[non_sprint_events[9]], 'BOT', 109, 112).reset_index()\n",
    "\n",
    "# Step 2: Combine all labeled data\n",
    "all_training_data = pd.concat([\n",
    "    bahrain_pia, bahrain_oco, bahrain_bot, bahrain_ver,\n",
    "    saudi_lec, saudi_hul, saudi_alb,\n",
    "    australia_nor, australia_lec, australia_str, australia_rus,\n",
    "    imola_mag, imola_alo, imola_zho, spain_ver, spain_nor, spain_ham,\n",
    "    belg_alb, belg_alb, bahrain_bot\n",
    "], ignore_index=True)"
   ]
  },
  {
   "cell_type": "markdown",
   "metadata": {},
   "source": [
    "## **Training the Model**\n",
    "\n",
    "### **Model Choice**\n",
    "- **Random Forest Classifier**:\n",
    "  - Handles non-linearity in lap time features effectively.\n",
    "  - Provides flexibility and robustness for classification.\n",
    "- **Features Used**:\n",
    "  - `LapTime (s)`: Lap time in seconds.\n",
    "  - `LapTimeDifference`: Time difference between consecutive laps.\n",
    "  - `Consistency`: Indicates stable pace across laps.\n",
    "  - `Stint`: Numeric indicator of the current stint; helps the model capture that race-pace attempts tend to cluster within the same stint.\n",
    "- **Target Variable**:\n",
    "  - `is_race_pace`: Indicates whether a lap is part of a race pace stint.\n",
    "\n",
    "### **Training Process**\n",
    "1. **Standardization**:\n",
    "   - Lap time features are standardized for consistent scaling.\n",
    "2. **Train-Test Split**:\n",
    "   - Data is split into training and testing sets to evaluate model performance.\n",
    "3. **Evaluation**:\n",
    "   - Metrics such as accuracy and classification reports are used to evaluate the model."
   ]
  },
  {
   "cell_type": "code",
   "execution_count": 4,
   "metadata": {},
   "outputs": [],
   "source": [
    "class RacePaceAnalyzer:\n",
    "    def __init__(self):\n",
    "        self.pipeline = Pipeline([\n",
    "            ('scaler', StandardScaler()),\n",
    "            ('classifier', RandomForestClassifier(n_estimators=100, random_state=42))\n",
    "        ])\n",
    "\n",
    "    def train_model(self, data=None, test_size=0.2, random_state=42):\n",
    "        if data is None:\n",
    "            data = all_training_data\n",
    "\n",
    "        data = data.copy()\n",
    "\n",
    "        feature_cols = [\n",
    "            'LapTime (s)',\n",
    "            'LapTimeDifference',\n",
    "            'Consistency',\n",
    "            'Stint'\n",
    "        ]\n",
    "        X = data[feature_cols]\n",
    "        y = data['is_race_pace']\n",
    "\n",
    "        X_train, X_test, y_train, y_test = train_test_split(\n",
    "            X, y, test_size=test_size, random_state=random_state, stratify=y\n",
    "        )\n",
    "\n",
    "        self.pipeline.fit(X_train, y_train)\n",
    "\n",
    "        y_pred = self.pipeline.predict(X_test)\n",
    "        print(\"Accuracy:\", accuracy_score(y_test, y_pred))\n",
    "        print(\"Classification Report:\\n\", classification_report(y_test, y_pred))\n",
    "\n",
    "    def predict(self, data):\n",
    "        #Preduct using the trained model\n",
    "        return self.pipeline.predict(data)\n",
    "    \n",
    "    def save_model(self, path='race_pace_pipeline.pkl'):\n",
    "        joblib.dump(self.pipeline, path)\n",
    "        print(f\"Pipeline saved to {path}\")\n",
    "\n",
    "\n",
    "    def load_model(self, path='race_pace_pipeline.pkl'):\n",
    "        self.pipeline = joblib.load(path)\n",
    "        print(\"Pipeline loaded successfully\")\n",
    "               \n",
    "    @staticmethod\n",
    "    def add_consistency_feature(dataframe, window_size, max_diff, n_to_remove=2):\n",
    "        \"\"\"\n",
    "        Add consistency feature to the given dataframe.\n",
    "        \"\"\"\n",
    "        dataframe = dataframe.sort_values('LapTime (s)').iloc[n_to_remove:-n_to_remove].copy()\n",
    "        dataframe = dataframe.sort_values('LapNumber').reset_index(drop=True)\n",
    "        dataframe['LapTimeDifference'] = dataframe['LapTime (s)'].diff(periods=-1).abs()\n",
    "        dataframe = dataframe.dropna(subset=['LapTimeDifference']).reset_index(drop=True)\n",
    "        dataframe['Group'] = dataframe.index // window_size\n",
    "        grouped = dataframe.groupby('Group')['LapTime (s)'].agg(['max', 'min']).reset_index()\n",
    "        grouped['RollingRange'] = grouped['max'] - grouped['min']\n",
    "        dataframe = dataframe.merge(grouped[['Group', 'RollingRange']], on='Group', how='left')\n",
    "        dataframe['Consistency'] = (dataframe['RollingRange'] <= max_diff).astype(int)\n",
    "        dataframe.drop(columns=['Group', 'RollingRange'], inplace=True)\n",
    "        return dataframe\n",
    "\n",
    "    def get_race_pace_laps(self, event_data, window_size=3, max_diff=3, n_to_remove=2, lap_time_tolerance=2.0):\n",
    "        \"\"\"\n",
    "        Identify race pace laps for all drivers in a given event.\n",
    "        \"\"\"\n",
    "        drivers_event = event_data['Driver'].unique()\n",
    "        race_pace_laps_all_drivers = []\n",
    "\n",
    "        for driver in drivers_event:\n",
    "            driver_data = event_data.pick_drivers(driver).copy()\n",
    "            driver_data = driver_data.pick_wo_box()\n",
    "            driver_data = driver_data[driver_data['IsAccurate'] == True]\n",
    "\n",
    "            if driver_data.empty:\n",
    "                continue\n",
    "\n",
    "            driver_data = self.add_consistency_feature(driver_data, window_size, max_diff, n_to_remove)\n",
    "            unknown_features = driver_data[['LapTime (s)', 'LapTimeDifference', 'Consistency', 'Stint']]\n",
    "\n",
    "            if unknown_features.empty:\n",
    "                continue\n",
    "\n",
    "            driver_data['is_race_pace'] = self.pipeline.predict(unknown_features)\n",
    "\n",
    "            race_pace_driver = driver_data[driver_data['is_race_pace'] == 1]\n",
    "            median_lap_time = race_pace_driver['LapTime (s)'].median()\n",
    "            lower_bound = median_lap_time - lap_time_tolerance\n",
    "            upper_bound = median_lap_time + lap_time_tolerance\n",
    "\n",
    "            race_pace_driver = race_pace_driver[\n",
    "                (race_pace_driver['LapTime (s)'] >= lower_bound) &\n",
    "                (race_pace_driver['LapTime (s)'] <= upper_bound)\n",
    "            ]\n",
    "\n",
    "            race_pace_laps_all_drivers.append(race_pace_driver)\n",
    "\n",
    "        if race_pace_laps_all_drivers:\n",
    "            race_pace_laps_all_drivers_df = pd.concat(race_pace_laps_all_drivers, ignore_index=True)\n",
    "\n",
    "            # Filter rows where 'LapTime (s)' is within ±3 of the median for the DataFrame\n",
    "            filtered_race_pace_laps_all_drivers = race_pace_laps_all_drivers_df[\n",
    "                (race_pace_laps_all_drivers_df['LapTime (s)'] <\n",
    "                 race_pace_laps_all_drivers_df['LapTime (s)'].median() + 3) &\n",
    "                (race_pace_laps_all_drivers_df['LapTime (s)'] >\n",
    "                 race_pace_laps_all_drivers_df['LapTime (s)'].median() - 3)\n",
    "            ]\n",
    "\n",
    "            return filtered_race_pace_laps_all_drivers\n",
    "\n"
   ]
  },
  {
   "cell_type": "markdown",
   "metadata": {},
   "source": [
    "## **Applying the Model to Unknown Data**\n",
    "\n",
    "### **Steps**\n",
    "1. **Filter Laps**:\n",
    "   - Exclude box laps and inaccurate laps from the dataset.\n",
    "2. **Add Consistency Feature**:\n",
    "   - Calculate consistency for grouped laps within a rolling window.\n",
    "3. **Feature Standardization**:\n",
    "   - Standardize the lap time features using the same scaler from training.\n",
    "4. **Prediction**:\n",
    "   - Use the trained Random Forest model to classify laps as race pace or not.\n",
    "\n",
    "### **Median-Based Filtering**\n",
    "- After prediction, laps are filtered further based on proximity to the median lap time for each driver to ensure outliers are excluded.\n",
    "\n",
    "---"
   ]
  },
  {
   "cell_type": "code",
   "execution_count": 5,
   "metadata": {},
   "outputs": [
    {
     "name": "stdout",
     "output_type": "stream",
     "text": [
      "Accuracy: 0.9166666666666666\n",
      "Classification Report:\n",
      "               precision    recall  f1-score   support\n",
      "\n",
      "           0       0.85      0.96      0.90        23\n",
      "           1       0.97      0.89      0.93        37\n",
      "\n",
      "    accuracy                           0.92        60\n",
      "   macro avg       0.91      0.92      0.91        60\n",
      "weighted avg       0.92      0.92      0.92        60\n",
      "\n",
      "Pipeline saved to race_pace_pipeline.pkl\n"
     ]
    }
   ],
   "source": [
    "analyzer = RacePaceAnalyzer()\n",
    "analyzer.train_model()\n",
    "analyzer.save_model(path='race_pace_pipeline.pkl')"
   ]
  },
  {
   "cell_type": "markdown",
   "metadata": {},
   "source": [
    "## **Potential for Improvement**\n",
    "\n",
    "This model serves as an initial implementation and can be improved in several ways:\n",
    "1. **More Data**:\n",
    "   - Incorporate additional races and practice sessions to enhance generalization.\n",
    "2. **Feature Engineering**:\n",
    "   - Add more features\n",
    "3. **Model Selection**:\n",
    "   - Explore other models like Gradient Boosting or Neural Networks( Need more data for data, I could use the whole 2023 and 2024 seasons as training for the 2025 season) for potentially better performance.\n",
    "4. **Dynamic Parameters**:\n",
    "   - Adjust thresholds (e.g., `max_diff`, `window_size`) dynamically based on track characteristics.\n",
    "\n",
    "---\n",
    "\n",
    "## **Conclusion**\n",
    "\n",
    "The project demonstrates an end-to-end pipeline for identifying race pace laps in FP2 sessions using machine learning. While the results are promising, this is just the beginning, and further iterations can improve the model's accuracy and adaptability across different tracks and conditions."
   ]
  }
 ],
 "metadata": {
  "kernelspec": {
   "display_name": "progLab",
   "language": "python",
   "name": "python3"
  },
  "language_info": {
   "codemirror_mode": {
    "name": "ipython",
    "version": 3
   },
   "file_extension": ".py",
   "mimetype": "text/x-python",
   "name": "python",
   "nbconvert_exporter": "python",
   "pygments_lexer": "ipython3",
   "version": "3.9.13"
  }
 },
 "nbformat": 4,
 "nbformat_minor": 2
}
