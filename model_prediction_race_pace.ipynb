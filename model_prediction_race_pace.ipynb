{
 "cells": [
  {
   "cell_type": "code",
   "execution_count": 1,
   "metadata": {},
   "outputs": [],
   "source": [
    "import matplotlib.pyplot as plt\n",
    "import numpy as np\n",
    "import fastf1.plotting\n",
    "import seaborn as sns\n",
    "import pandas as pd\n",
    "import matplotlib.ticker as ticker\n",
    "from fastf1 import utils\n",
    "import random\n",
    "from sklearn.model_selection import train_test_split\n",
    "from sklearn.ensemble import RandomForestClassifier\n",
    "from sklearn.metrics import classification_report, accuracy_score\n",
    "import joblib\n",
    "from sklearn.preprocessing import StandardScaler\n",
    "from sklearn.cluster import KMeans\n",
    "\n",
    "# FastF1's default color scheme\n",
    "fastf1.plotting.setup_mpl(misc_mpl_mods=False, color_scheme='fastf1' )"
   ]
  },
  {
   "cell_type": "code",
   "execution_count": 43,
   "metadata": {},
   "outputs": [
    {
     "name": "stderr",
     "output_type": "stream",
     "text": [
      "core           INFO \tLoading data for Bahrain Grand Prix - Practice 2 [v3.4.1]\n",
      "req            INFO \tUsing cached data for session_info\n",
      "req            INFO \tUsing cached data for driver_info\n",
      "req            INFO \tUsing cached data for session_status_data\n",
      "req            INFO \tUsing cached data for track_status_data\n",
      "req            INFO \tUsing cached data for _extended_timing_data\n",
      "req            INFO \tUsing cached data for timing_app_data\n",
      "core           INFO \tProcessing timing data...\n",
      "req            INFO \tUsing cached data for car_data\n",
      "req            INFO \tUsing cached data for position_data\n",
      "req            INFO \tUsing cached data for weather_data\n",
      "req            INFO \tUsing cached data for race_control_messages\n",
      "core           INFO \tFinished loading data for 20 drivers: ['1', '10', '11', '14', '16', '18', '2', '20', '22', '23', '24', '27', '3', '31', '4', '44', '55', '63', '77', '81']\n",
      "core           INFO \tLoading data for Saudi Arabian Grand Prix - Practice 2 [v3.4.1]\n",
      "req            INFO \tUsing cached data for session_info\n",
      "req            INFO \tUsing cached data for driver_info\n",
      "req            INFO \tUsing cached data for session_status_data\n",
      "req            INFO \tUsing cached data for track_status_data\n",
      "req            INFO \tUsing cached data for _extended_timing_data\n",
      "req            INFO \tUsing cached data for timing_app_data\n",
      "core           INFO \tProcessing timing data...\n"
     ]
    },
    {
     "name": "stdout",
     "output_type": "stream",
     "text": [
      "Transformed laps for Bahrain Grand Prix FP2 loaded successfully.\n"
     ]
    },
    {
     "name": "stderr",
     "output_type": "stream",
     "text": [
      "core        WARNING \tNo lap data for driver 38\n",
      "core        WARNING \tFailed to perform lap accuracy check - all laps marked as inaccurate (driver 38)\n",
      "req            INFO \tUsing cached data for car_data\n",
      "req            INFO \tUsing cached data for position_data\n",
      "req            INFO \tUsing cached data for weather_data\n",
      "req            INFO \tUsing cached data for race_control_messages\n",
      "core           INFO \tFinished loading data for 21 drivers: ['1', '10', '11', '14', '16', '18', '2', '20', '22', '23', '24', '27', '3', '31', '38', '4', '44', '55', '63', '77', '81']\n",
      "core           INFO \tLoading data for Australian Grand Prix - Practice 2 [v3.4.1]\n",
      "req            INFO \tUsing cached data for session_info\n",
      "req            INFO \tUsing cached data for driver_info\n",
      "req            INFO \tUsing cached data for session_status_data\n",
      "req            INFO \tUsing cached data for track_status_data\n",
      "req            INFO \tUsing cached data for _extended_timing_data\n",
      "req            INFO \tUsing cached data for timing_app_data\n",
      "core           INFO \tProcessing timing data...\n"
     ]
    },
    {
     "name": "stdout",
     "output_type": "stream",
     "text": [
      "Transformed laps for Saudi Arabian Grand Prix FP2 loaded successfully.\n"
     ]
    },
    {
     "name": "stderr",
     "output_type": "stream",
     "text": [
      "core        WARNING \tNo lap data for driver 23\n",
      "core        WARNING \tFailed to perform lap accuracy check - all laps marked as inaccurate (driver 23)\n",
      "req            INFO \tUsing cached data for car_data\n",
      "req            INFO \tUsing cached data for position_data\n",
      "req            INFO \tUsing cached data for weather_data\n",
      "req            INFO \tUsing cached data for race_control_messages\n",
      "core           INFO \tFinished loading data for 20 drivers: ['1', '10', '11', '14', '16', '18', '2', '20', '22', '23', '24', '27', '3', '31', '4', '44', '55', '63', '77', '81']\n",
      "core           INFO \tLoading data for Japanese Grand Prix - Practice 2 [v3.4.1]\n",
      "req            INFO \tUsing cached data for session_info\n",
      "req            INFO \tUsing cached data for driver_info\n",
      "req            INFO \tUsing cached data for session_status_data\n",
      "req            INFO \tUsing cached data for track_status_data\n",
      "req            INFO \tUsing cached data for _extended_timing_data\n",
      "req            INFO \tUsing cached data for timing_app_data\n",
      "core           INFO \tProcessing timing data...\n",
      "core        WARNING \tNo lap data for driver 1\n",
      "core        WARNING \tNo lap data for driver 10\n",
      "core        WARNING \tNo lap data for driver 11\n",
      "core        WARNING \tNo lap data for driver 14\n",
      "core        WARNING \tNo lap data for driver 18\n",
      "core        WARNING \tNo lap data for driver 2\n",
      "core        WARNING \tNo lap data for driver 63\n"
     ]
    },
    {
     "name": "stdout",
     "output_type": "stream",
     "text": [
      "Transformed laps for Australian Grand Prix FP2 loaded successfully.\n"
     ]
    },
    {
     "name": "stderr",
     "output_type": "stream",
     "text": [
      "core        WARNING \tFailed to perform lap accuracy check - all laps marked as inaccurate (driver 1)\n",
      "core        WARNING \tFailed to perform lap accuracy check - all laps marked as inaccurate (driver 10)\n",
      "core        WARNING \tFailed to perform lap accuracy check - all laps marked as inaccurate (driver 11)\n",
      "core        WARNING \tFailed to perform lap accuracy check - all laps marked as inaccurate (driver 14)\n",
      "core        WARNING \tFailed to perform lap accuracy check - all laps marked as inaccurate (driver 18)\n",
      "core        WARNING \tFailed to perform lap accuracy check - all laps marked as inaccurate (driver 2)\n",
      "core        WARNING \tFailed to perform lap accuracy check - all laps marked as inaccurate (driver 63)\n",
      "req            INFO \tUsing cached data for car_data\n",
      "req            INFO \tUsing cached data for position_data\n",
      "req            INFO \tUsing cached data for weather_data\n",
      "req            INFO \tUsing cached data for race_control_messages\n",
      "core           INFO \tFinished loading data for 20 drivers: ['1', '10', '11', '14', '16', '18', '2', '20', '22', '23', '24', '27', '3', '31', '4', '44', '55', '63', '77', '81']\n",
      "core           INFO \tLoading data for Emilia Romagna Grand Prix - Practice 2 [v3.4.1]\n",
      "req            INFO \tUsing cached data for session_info\n",
      "req            INFO \tUsing cached data for driver_info\n",
      "req            INFO \tUsing cached data for session_status_data\n",
      "req            INFO \tUsing cached data for track_status_data\n",
      "req            INFO \tUsing cached data for _extended_timing_data\n",
      "req            INFO \tUsing cached data for timing_app_data\n",
      "core           INFO \tProcessing timing data...\n"
     ]
    },
    {
     "name": "stdout",
     "output_type": "stream",
     "text": [
      "Transformed laps for Japanese Grand Prix FP2 loaded successfully.\n"
     ]
    },
    {
     "name": "stderr",
     "output_type": "stream",
     "text": [
      "req            INFO \tUsing cached data for car_data\n",
      "req            INFO \tUsing cached data for position_data\n",
      "req            INFO \tUsing cached data for weather_data\n",
      "req            INFO \tUsing cached data for race_control_messages\n",
      "core           INFO \tFinished loading data for 20 drivers: ['1', '10', '11', '14', '16', '18', '2', '20', '22', '23', '24', '27', '3', '31', '4', '44', '55', '63', '77', '81']\n",
      "core           INFO \tLoading data for Canadian Grand Prix - Practice 2 [v3.4.1]\n",
      "req            INFO \tUsing cached data for session_info\n",
      "req            INFO \tUsing cached data for driver_info\n",
      "req            INFO \tUsing cached data for session_status_data\n",
      "req            INFO \tUsing cached data for track_status_data\n",
      "req            INFO \tUsing cached data for _extended_timing_data\n",
      "req            INFO \tUsing cached data for timing_app_data\n",
      "core           INFO \tProcessing timing data...\n"
     ]
    },
    {
     "name": "stdout",
     "output_type": "stream",
     "text": [
      "Transformed laps for Emilia Romagna Grand Prix FP2 loaded successfully.\n"
     ]
    },
    {
     "name": "stderr",
     "output_type": "stream",
     "text": [
      "req            INFO \tUsing cached data for car_data\n",
      "req            INFO \tUsing cached data for position_data\n",
      "req            INFO \tUsing cached data for weather_data\n",
      "req            INFO \tUsing cached data for race_control_messages\n",
      "core           INFO \tFinished loading data for 20 drivers: ['1', '10', '11', '14', '16', '18', '2', '20', '22', '23', '24', '27', '3', '31', '4', '44', '55', '63', '77', '81']\n",
      "core           INFO \tLoading data for Spanish Grand Prix - Practice 2 [v3.4.1]\n",
      "req            INFO \tUsing cached data for session_info\n",
      "req            INFO \tUsing cached data for driver_info\n",
      "req            INFO \tUsing cached data for session_status_data\n",
      "req            INFO \tUsing cached data for track_status_data\n",
      "req            INFO \tUsing cached data for _extended_timing_data\n",
      "req            INFO \tUsing cached data for timing_app_data\n",
      "core           INFO \tProcessing timing data...\n"
     ]
    },
    {
     "name": "stdout",
     "output_type": "stream",
     "text": [
      "Transformed laps for Canadian Grand Prix FP2 loaded successfully.\n"
     ]
    },
    {
     "name": "stderr",
     "output_type": "stream",
     "text": [
      "req            INFO \tUsing cached data for car_data\n",
      "req            INFO \tUsing cached data for position_data\n",
      "req            INFO \tUsing cached data for weather_data\n",
      "req            INFO \tUsing cached data for race_control_messages\n",
      "core           INFO \tFinished loading data for 20 drivers: ['1', '10', '11', '14', '16', '18', '2', '20', '22', '23', '24', '27', '3', '31', '4', '44', '55', '63', '77', '81']\n",
      "core           INFO \tLoading data for British Grand Prix - Practice 2 [v3.4.1]\n",
      "req            INFO \tUsing cached data for session_info\n",
      "req            INFO \tUsing cached data for driver_info\n",
      "req            INFO \tUsing cached data for session_status_data\n",
      "req            INFO \tUsing cached data for track_status_data\n",
      "req            INFO \tUsing cached data for _extended_timing_data\n",
      "req            INFO \tUsing cached data for timing_app_data\n",
      "core           INFO \tProcessing timing data...\n"
     ]
    },
    {
     "name": "stdout",
     "output_type": "stream",
     "text": [
      "Transformed laps for Spanish Grand Prix FP2 loaded successfully.\n"
     ]
    },
    {
     "name": "stderr",
     "output_type": "stream",
     "text": [
      "req            INFO \tUsing cached data for car_data\n",
      "req            INFO \tUsing cached data for position_data\n",
      "req            INFO \tUsing cached data for weather_data\n",
      "req            INFO \tUsing cached data for race_control_messages\n",
      "core           INFO \tFinished loading data for 20 drivers: ['1', '10', '11', '14', '16', '18', '2', '20', '22', '23', '24', '27', '3', '31', '4', '44', '55', '63', '77', '81']\n",
      "core           INFO \tLoading data for Hungarian Grand Prix - Practice 2 [v3.4.1]\n",
      "req            INFO \tUsing cached data for session_info\n",
      "req            INFO \tUsing cached data for driver_info\n",
      "req            INFO \tUsing cached data for session_status_data\n",
      "req            INFO \tUsing cached data for track_status_data\n",
      "req            INFO \tUsing cached data for _extended_timing_data\n",
      "req            INFO \tUsing cached data for timing_app_data\n",
      "core           INFO \tProcessing timing data...\n"
     ]
    },
    {
     "name": "stdout",
     "output_type": "stream",
     "text": [
      "Transformed laps for British Grand Prix FP2 loaded successfully.\n"
     ]
    },
    {
     "name": "stderr",
     "output_type": "stream",
     "text": [
      "req            INFO \tUsing cached data for car_data\n",
      "req            INFO \tUsing cached data for position_data\n",
      "req            INFO \tUsing cached data for weather_data\n",
      "req            INFO \tUsing cached data for race_control_messages\n",
      "core           INFO \tFinished loading data for 20 drivers: ['1', '10', '11', '14', '16', '18', '2', '20', '22', '23', '24', '27', '3', '31', '4', '44', '55', '63', '77', '81']\n",
      "core           INFO \tLoading data for Belgian Grand Prix - Practice 2 [v3.4.1]\n",
      "req            INFO \tUsing cached data for session_info\n",
      "req            INFO \tUsing cached data for driver_info\n",
      "req            INFO \tUsing cached data for session_status_data\n",
      "req            INFO \tUsing cached data for track_status_data\n",
      "req            INFO \tUsing cached data for _extended_timing_data\n",
      "req            INFO \tUsing cached data for timing_app_data\n",
      "core           INFO \tProcessing timing data...\n"
     ]
    },
    {
     "name": "stdout",
     "output_type": "stream",
     "text": [
      "Transformed laps for Hungarian Grand Prix FP2 loaded successfully.\n"
     ]
    },
    {
     "name": "stderr",
     "output_type": "stream",
     "text": [
      "req            INFO \tUsing cached data for car_data\n",
      "req            INFO \tUsing cached data for position_data\n",
      "req            INFO \tUsing cached data for weather_data\n",
      "req            INFO \tUsing cached data for race_control_messages\n",
      "core           INFO \tFinished loading data for 20 drivers: ['1', '10', '11', '14', '16', '18', '2', '20', '22', '23', '24', '27', '3', '31', '4', '44', '55', '63', '77', '81']\n",
      "core           INFO \tLoading data for Dutch Grand Prix - Practice 2 [v3.4.1]\n",
      "req            INFO \tUsing cached data for session_info\n",
      "req            INFO \tUsing cached data for driver_info\n",
      "req            INFO \tUsing cached data for session_status_data\n",
      "req            INFO \tUsing cached data for track_status_data\n",
      "req            INFO \tUsing cached data for _extended_timing_data\n",
      "req            INFO \tUsing cached data for timing_app_data\n",
      "core           INFO \tProcessing timing data...\n"
     ]
    },
    {
     "name": "stdout",
     "output_type": "stream",
     "text": [
      "Transformed laps for Belgian Grand Prix FP2 loaded successfully.\n"
     ]
    },
    {
     "name": "stderr",
     "output_type": "stream",
     "text": [
      "req            INFO \tUsing cached data for car_data\n",
      "req            INFO \tUsing cached data for position_data\n",
      "req            INFO \tUsing cached data for weather_data\n",
      "req            INFO \tUsing cached data for race_control_messages\n",
      "core           INFO \tFinished loading data for 20 drivers: ['1', '10', '11', '14', '16', '18', '2', '20', '22', '23', '24', '27', '3', '31', '4', '44', '55', '63', '77', '81']\n",
      "core           INFO \tLoading data for Italian Grand Prix - Practice 2 [v3.4.1]\n",
      "req            INFO \tUsing cached data for session_info\n",
      "req            INFO \tUsing cached data for driver_info\n",
      "req            INFO \tUsing cached data for session_status_data\n",
      "req            INFO \tUsing cached data for track_status_data\n",
      "req            INFO \tUsing cached data for _extended_timing_data\n",
      "req            INFO \tUsing cached data for timing_app_data\n",
      "core           INFO \tProcessing timing data...\n"
     ]
    },
    {
     "name": "stdout",
     "output_type": "stream",
     "text": [
      "Transformed laps for Dutch Grand Prix FP2 loaded successfully.\n"
     ]
    },
    {
     "name": "stderr",
     "output_type": "stream",
     "text": [
      "req            INFO \tUsing cached data for car_data\n",
      "req            INFO \tUsing cached data for position_data\n",
      "req            INFO \tUsing cached data for weather_data\n",
      "req            INFO \tUsing cached data for race_control_messages\n",
      "core           INFO \tFinished loading data for 20 drivers: ['1', '10', '11', '14', '16', '18', '20', '22', '23', '24', '27', '3', '31', '4', '43', '44', '55', '63', '77', '81']\n",
      "core           INFO \tLoading data for Singapore Grand Prix - Practice 2 [v3.4.1]\n",
      "req            INFO \tUsing cached data for session_info\n",
      "req            INFO \tUsing cached data for driver_info\n",
      "req            INFO \tUsing cached data for session_status_data\n",
      "req            INFO \tUsing cached data for track_status_data\n",
      "req            INFO \tUsing cached data for _extended_timing_data\n",
      "req            INFO \tUsing cached data for timing_app_data\n",
      "core           INFO \tProcessing timing data...\n"
     ]
    },
    {
     "name": "stdout",
     "output_type": "stream",
     "text": [
      "Transformed laps for Italian Grand Prix FP2 loaded successfully.\n"
     ]
    },
    {
     "name": "stderr",
     "output_type": "stream",
     "text": [
      "req            INFO \tUsing cached data for car_data\n",
      "req            INFO \tUsing cached data for position_data\n",
      "req            INFO \tUsing cached data for weather_data\n",
      "req            INFO \tUsing cached data for race_control_messages\n",
      "core           INFO \tFinished loading data for 20 drivers: ['1', '10', '11', '14', '16', '18', '20', '22', '23', '24', '27', '3', '31', '4', '43', '44', '55', '63', '77', '81']\n",
      "events      WARNING \tCorrecting user input 'Mexican Grand Prix' to 'Mexico City Grand Prix'\n",
      "core           INFO \tLoading data for Mexico City Grand Prix - Practice 2 [v3.4.1]\n",
      "req            INFO \tUsing cached data for session_info\n",
      "req            INFO \tUsing cached data for driver_info\n",
      "req            INFO \tUsing cached data for session_status_data\n",
      "req            INFO \tUsing cached data for track_status_data\n",
      "req            INFO \tUsing cached data for _extended_timing_data\n",
      "req            INFO \tUsing cached data for timing_app_data\n",
      "core           INFO \tProcessing timing data...\n"
     ]
    },
    {
     "name": "stdout",
     "output_type": "stream",
     "text": [
      "Transformed laps for Singapore Grand Prix FP2 loaded successfully.\n"
     ]
    },
    {
     "name": "stderr",
     "output_type": "stream",
     "text": [
      "core        WARNING \tNo lap data for driver 23\n",
      "core        WARNING \tFailed to perform lap accuracy check - all laps marked as inaccurate (driver 23)\n",
      "req            INFO \tUsing cached data for car_data\n",
      "req            INFO \tUsing cached data for position_data\n",
      "req            INFO \tUsing cached data for weather_data\n",
      "req            INFO \tUsing cached data for race_control_messages\n",
      "core           INFO \tFinished loading data for 20 drivers: ['1', '10', '11', '14', '16', '18', '20', '22', '23', '24', '27', '30', '31', '4', '43', '44', '55', '63', '77', '81']\n",
      "core           INFO \tLoading data for Las Vegas Grand Prix - Practice 2 [v3.4.1]\n",
      "req            INFO \tUsing cached data for session_info\n",
      "req            INFO \tUsing cached data for driver_info\n",
      "req            INFO \tUsing cached data for session_status_data\n",
      "req            INFO \tUsing cached data for track_status_data\n",
      "req            INFO \tUsing cached data for _extended_timing_data\n",
      "req            INFO \tUsing cached data for timing_app_data\n",
      "core           INFO \tProcessing timing data...\n"
     ]
    },
    {
     "name": "stdout",
     "output_type": "stream",
     "text": [
      "Transformed laps for Mexican Grand Prix FP2 loaded successfully.\n"
     ]
    },
    {
     "name": "stderr",
     "output_type": "stream",
     "text": [
      "req            INFO \tUsing cached data for car_data\n",
      "req            INFO \tUsing cached data for position_data\n",
      "req            INFO \tUsing cached data for weather_data\n",
      "req            INFO \tUsing cached data for race_control_messages\n",
      "core           INFO \tFinished loading data for 20 drivers: ['1', '10', '11', '14', '16', '18', '20', '22', '23', '24', '27', '30', '31', '4', '43', '44', '55', '63', '77', '81']\n",
      "core           INFO \tLoading data for Abu Dhabi Grand Prix - Practice 2 [v3.4.1]\n",
      "req            INFO \tUsing cached data for session_info\n",
      "req            INFO \tUsing cached data for driver_info\n",
      "req            INFO \tUsing cached data for session_status_data\n",
      "req            INFO \tUsing cached data for track_status_data\n",
      "req            INFO \tUsing cached data for _extended_timing_data\n",
      "req            INFO \tUsing cached data for timing_app_data\n",
      "core           INFO \tProcessing timing data...\n"
     ]
    },
    {
     "name": "stdout",
     "output_type": "stream",
     "text": [
      "Transformed laps for Las Vegas Grand Prix FP2 loaded successfully.\n"
     ]
    },
    {
     "name": "stderr",
     "output_type": "stream",
     "text": [
      "req            INFO \tUsing cached data for car_data\n",
      "req            INFO \tUsing cached data for position_data\n",
      "req            INFO \tUsing cached data for weather_data\n",
      "req            INFO \tUsing cached data for race_control_messages\n",
      "core           INFO \tFinished loading data for 20 drivers: ['1', '10', '11', '14', '16', '18', '20', '22', '23', '24', '27', '30', '4', '43', '44', '55', '61', '63', '77', '81']\n"
     ]
    },
    {
     "name": "stdout",
     "output_type": "stream",
     "text": [
      "Transformed laps for Abu Dhabi Grand Prix FP2 loaded successfully.\n"
     ]
    }
   ],
   "source": [
    "# List of non-sprint events in the 2024 F1 calendar\n",
    "non_sprint_events = [\n",
    "    'Bahrain Grand Prix',\n",
    "    'Saudi Arabian Grand Prix',\n",
    "    'Australian Grand Prix',\n",
    "    'Japanese Grand Prix',\n",
    "    'Emilia Romagna Grand Prix',\n",
    "    'Canadian Grand Prix',\n",
    "    'Spanish Grand Prix',\n",
    "    'British Grand Prix',\n",
    "    'Hungarian Grand Prix',\n",
    "    'Belgian Grand Prix',\n",
    "    'Dutch Grand Prix',\n",
    "    'Italian Grand Prix',\n",
    "    'Singapore Grand Prix',\n",
    "    'Mexican Grand Prix',\n",
    "    'Las Vegas Grand Prix',\n",
    "    'Abu Dhabi Grand Prix'\n",
    "]\n",
    "\n",
    "transformed_laps_dataframes = {}\n",
    "\n",
    "\n",
    "for event in non_sprint_events:\n",
    "    try:\n",
    "        # Load the FP2 session\n",
    "        session = fastf1.get_session(2024, event, 'FP2')\n",
    "        session.load()\n",
    "        \n",
    "        # Filter out box laps and keep only accurate laps\n",
    "        laps = session.laps.pick_wo_box()\n",
    "        laps = laps[laps['IsAccurate'] == True]\n",
    "        \n",
    "        # Transform laps: add a new column for lap times in seconds\n",
    "        transformed_laps = laps.copy()\n",
    "        transformed_laps.loc[:, \"LapTime (s)\"] = laps[\"LapTime\"].dt.total_seconds()\n",
    "        \n",
    "        # Store the transformed dataframe in the dictionary\n",
    "        transformed_laps_dataframes[event] = transformed_laps\n",
    "        print(f\"Transformed laps for {event} FP2 loaded successfully.\")\n",
    "    except Exception as e:\n",
    "        print(f\"Failed to load data for {event}: {e}\")"
   ]
  },
  {
   "cell_type": "code",
   "execution_count": 3,
   "metadata": {},
   "outputs": [],
   "source": [
    "def label_race_pace(dataframe, driver, min_time, max_time):\n",
    "    # Filter for the driver's laps\n",
    "    driver_data = dataframe.pick_drivers(driver)[['LapTime (s)']].copy()  # Keep only lap times\n",
    "    if driver_data.empty:\n",
    "        print(f\"No data for driver: {driver}\")\n",
    "        return None\n",
    "\n",
    "    # **1. Remove the Fastest and Slowest Laps**\n",
    "    n_to_remove = 1  # Number of fastest and slowest laps to remove\n",
    "    driver_data = driver_data.sort_values('LapTime (s)').iloc[n_to_remove:-n_to_remove]\n",
    "\n",
    "    # Reset the index after filtering\n",
    "    driver_data = driver_data.reset_index(drop=True)\n",
    "\n",
    "    # **2. Assign is_race_pace Based on Range**\n",
    "    driver_data['is_race_pace'] = 0  # Default to 0\n",
    "    driver_data.loc[\n",
    "        (driver_data['LapTime (s)'] >= min_time) & \n",
    "        (driver_data['LapTime (s)'] <= max_time), \n",
    "        'is_race_pace'\n",
    "    ] = 1\n",
    "\n",
    "    # **3. Calculate LapTimeDifference**\n",
    "    driver_data['LapTimeDifference'] = driver_data['LapTime (s)'].diff(periods = -1 ).abs()\n",
    "\n",
    "    driver_data = driver_data.dropna(subset=['LapTimeDifference']).reset_index(drop=True)\n",
    "\n",
    "    # **4. Add Consistency Feature with Non-Overlapping Rolling**\n",
    "    window_size = 5  # Non-overlapping group size\n",
    "    max_diff = 3   # Maximum allowed difference for consistency\n",
    "\n",
    "    # Assign groups for non-overlapping rolling\n",
    "    driver_data['Group'] = (driver_data.index // window_size)\n",
    "\n",
    "    # Calculate max, min, and range for each group\n",
    "    grouped = driver_data.groupby('Group')['LapTime (s)'].agg(['max', 'min']).reset_index()\n",
    "    grouped['RollingRange'] = grouped['max'] - grouped['min']\n",
    "\n",
    "    # Map RollingRange back to the original dataframe\n",
    "    driver_data = driver_data.merge(grouped[['Group', 'RollingRange']], on='Group', how='left')\n",
    "\n",
    "    # Add a Consistency flag (1 if within range, 0 otherwise)\n",
    "    driver_data['Consistency'] = (driver_data['RollingRange'] <= max_diff).astype(int)\n",
    "\n",
    "    # Drop intermediate columns to keep the dataframe clean\n",
    "    driver_data.drop(columns=['Group', 'RollingRange'], inplace=True)\n",
    "\n",
    "    return driver_data\n",
    "\n",
    "# Bahrain\n",
    "bahrain_pia = label_race_pace(transformed_laps_dataframes[non_sprint_events[0]], 'PIA', 95, 98).reset_index()\n",
    "bahrain_oco = label_race_pace(transformed_laps_dataframes[non_sprint_events[0]], 'OCO', 97, 100).reset_index()\n",
    "bahrain_bot = label_race_pace(transformed_laps_dataframes[non_sprint_events[0]], 'BOT', 97, 99).reset_index()\n",
    "bahrain_ver = label_race_pace(transformed_laps_dataframes[non_sprint_events[0]], 'VER', 96, 98).reset_index()\n",
    "\n",
    "# Saudi Arabian\n",
    "saudi_lec = label_race_pace(transformed_laps_dataframes[non_sprint_events[1]], 'LEC', 93, 96).reset_index()\n",
    "saudi_hul = label_race_pace(transformed_laps_dataframes[non_sprint_events[1]], 'HUL', 94.5, 96.5).reset_index()\n",
    "saudi_alb = label_race_pace(transformed_laps_dataframes[non_sprint_events[1]], 'ALB', 94, 96).reset_index()\n",
    "\n",
    "\n",
    "# Australia\n",
    "australia_nor = label_race_pace(transformed_laps_dataframes[non_sprint_events[2]], 'NOR', 82.5, 84).reset_index()\n",
    "australia_lec = label_race_pace(transformed_laps_dataframes[non_sprint_events[2]], 'LEC', 82, 84).reset_index()\n",
    "australia_str = label_race_pace(transformed_laps_dataframes[non_sprint_events[2]], 'STR', 82, 84).reset_index()\n",
    "australia_rus = label_race_pace(transformed_laps_dataframes[non_sprint_events[2]], 'RUS', 83, 85).reset_index()\n",
    "\n",
    "\n",
    "# Imola\n",
    "imola_mag = label_race_pace(transformed_laps_dataframes[non_sprint_events[4]], 'MAG', 81, 83).reset_index()\n",
    "imola_alo = label_race_pace(transformed_laps_dataframes[non_sprint_events[4]], 'ALO', 81, 83).reset_index()\n",
    "imola_zho = label_race_pace(transformed_laps_dataframes[non_sprint_events[4]], 'ZHO', 81, 83).reset_index()\n",
    "\n",
    "#Spain\n",
    "\n",
    "spain_ver = label_race_pace(transformed_laps_dataframes[non_sprint_events[4]], 'VER', 79, 82).reset_index()\n",
    "spain_nor = label_race_pace(transformed_laps_dataframes[non_sprint_events[4]], 'NOR', 78, 81.5).reset_index()\n",
    "spain_ham = label_race_pace(transformed_laps_dataframes[non_sprint_events[4]], 'HAM', 79, 82).reset_index()\n",
    "\n",
    "#Belgium\n",
    "\n",
    "belg_lec = label_race_pace(transformed_laps_dataframes[non_sprint_events[9]], 'LEC', 109, 112).reset_index()\n",
    "belg_alb = label_race_pace(transformed_laps_dataframes[non_sprint_events[9]], 'ALB', 108, 111).reset_index()\n",
    "belg_bot = label_race_pace(transformed_laps_dataframes[non_sprint_events[9]], 'BOT', 109, 112).reset_index()\n",
    "\n",
    "# Step 2: Combine all labeled data\n",
    "all_training_data = pd.concat([\n",
    "    bahrain_pia, bahrain_oco, bahrain_bot, bahrain_ver,\n",
    "    saudi_lec, saudi_hul, saudi_alb,\n",
    "    australia_nor, australia_lec, australia_str, australia_rus,\n",
    "    imola_mag, imola_alo, imola_zho, spain_ver, spain_nor, spain_ham,\n",
    "    belg_alb, belg_alb, bahrain_bot\n",
    "], ignore_index=True)"
   ]
  },
  {
   "cell_type": "code",
   "execution_count": 5,
   "metadata": {},
   "outputs": [
    {
     "name": "stdout",
     "output_type": "stream",
     "text": [
      "Accuracy: 0.95\n",
      "Classification Report:\n",
      "               precision    recall  f1-score   support\n",
      "\n",
      "           0       1.00      0.88      0.93        24\n",
      "           1       0.92      1.00      0.96        36\n",
      "\n",
      "    accuracy                           0.95        60\n",
      "   macro avg       0.96      0.94      0.95        60\n",
      "weighted avg       0.95      0.95      0.95        60\n",
      "\n"
     ]
    }
   ],
   "source": [
    "# Standardize features\n",
    "scaler = StandardScaler()\n",
    "features = all_training_data[['LapTime (s)', 'LapTimeDifference', 'Consistency']]\n",
    "features_standardized = scaler.fit_transform(features)\n",
    "labels = all_training_data['is_race_pace']\n",
    "\n",
    "# Split the data\n",
    "X_train, X_test, y_train, y_test = train_test_split(features_standardized, labels, test_size=0.2, random_state=42)\n",
    "\n",
    "# Train the Random Forest model\n",
    "model = RandomForestClassifier(random_state=42)\n",
    "model.fit(X_train, y_train)\n",
    "\n",
    "# Evaluate the model\n",
    "y_pred = model.predict(X_test)\n",
    "accuracy = accuracy_score(y_test, y_pred)\n",
    "print(\"Accuracy:\", accuracy)\n",
    "print(\"Classification Report:\\n\", classification_report(y_test, y_pred))\n"
   ]
  },
  {
   "cell_type": "code",
   "execution_count": 6,
   "metadata": {},
   "outputs": [
    {
     "data": {
      "text/plain": [
       "['standard_scaler.pkl']"
      ]
     },
     "execution_count": 6,
     "metadata": {},
     "output_type": "execute_result"
    }
   ],
   "source": [
    "# Save the model and scaler\n",
    "joblib.dump(model, 'standardized_race_pace_model.pkl')\n",
    "joblib.dump(scaler, 'standard_scaler.pkl')"
   ]
  },
  {
   "cell_type": "code",
   "execution_count": 7,
   "metadata": {},
   "outputs": [],
   "source": [
    "model_test = joblib.load('standardized_race_pace_model.pkl')"
   ]
  },
  {
   "cell_type": "code",
   "execution_count": 8,
   "metadata": {},
   "outputs": [],
   "source": [
    "def add_consistency_feature(dataframe, window_size, max_diff, n_to_remove=2):\n",
    "    \"\"\"\n",
    "    Adds a Consistency feature to the dataframe.\n",
    "    Consistency indicates whether laps within the grouped rolling window differ by less than max_diff seconds.\n",
    "    The dataframe is sorted by LapTime (s) to remove fastest/slowest laps, \n",
    "    but it is then restored to the original lap order using the 'LapNumber' column.\n",
    "    \"\"\"\n",
    "    # **1. Remove the Fastest and Slowest Laps**\n",
    "    # Sort by LapTime to identify the fastest and slowest laps\n",
    "    dataframe = dataframe.sort_values('LapTime (s)')\n",
    "\n",
    "    # Remove the fastest and slowest laps\n",
    "    dataframe = dataframe.iloc[n_to_remove:-n_to_remove].copy()\n",
    "\n",
    "    # **2. Restore the Original Lap Order**\n",
    "    dataframe = dataframe.sort_values('LapNumber').reset_index(drop=True)\n",
    "\n",
    "    # **3. Calculate LapTimeDifference**\n",
    "    # Ensure the difference is calculated between consecutive laps in original order\n",
    "    dataframe['LapTimeDifference'] = dataframe['LapTime (s)'].diff(periods = -1).abs()\n",
    "\n",
    "    # Drop the row where LapTimeDifference is NaN (last row)\n",
    "    dataframe = dataframe.dropna(subset=['LapTimeDifference']).reset_index(drop=True)\n",
    "\n",
    "    # **4. Assign Non-Overlapping Groups for Rolling**\n",
    "    dataframe['Group'] = (dataframe.index // window_size)\n",
    "\n",
    "    # **5. Calculate max, min, and range for each group**\n",
    "    grouped = dataframe.groupby('Group')['LapTime (s)'].agg(['max', 'min']).reset_index()\n",
    "    grouped['RollingRange'] = grouped['max'] - grouped['min']\n",
    "\n",
    "    # **6. Map RollingRange back to the original dataframe**\n",
    "    dataframe = dataframe.merge(grouped[['Group', 'RollingRange']], on='Group', how='left')\n",
    "\n",
    "    # **7. Add a Consistency flag (1 if within range, 0 otherwise)**\n",
    "    dataframe['Consistency'] = (dataframe['RollingRange'] <= max_diff).astype(int)\n",
    "\n",
    "    # **8. Drop intermediate columns to keep the dataframe clean**\n",
    "    dataframe.drop(columns=['Group', 'RollingRange'], inplace=True)\n",
    "\n",
    "    return dataframe"
   ]
  },
  {
   "cell_type": "code",
   "execution_count": 9,
   "metadata": {},
   "outputs": [],
   "source": [
    "# Generalized approach for all drivers in an event\n",
    "def get_race_pace_laps(event_data, scaler, model, window_size, max_diff, n_to_remove, lap_time_tolerance=2.0):\n",
    "    \"\"\"\n",
    "    Identify race pace laps for all drivers in a given event.\n",
    "    \"\"\"\n",
    "    # Get the unique drivers in the event\n",
    "    drivers_event = event_data['Driver'].unique()\n",
    "\n",
    "    # Initialize an empty list to store race pace laps for all drivers\n",
    "    race_pace_laps_all_drivers = []\n",
    "\n",
    "    # Loop through each driver\n",
    "    for driver in drivers_event:\n",
    "        # Filter the laps for the current driver\n",
    "        driver_data = event_data.pick_drivers(driver).copy()\n",
    "\n",
    "        # Exclude laps with inaccurate data or pit box laps\n",
    "        driver_data = driver_data.pick_wo_box()\n",
    "        driver_data = driver_data[driver_data['IsAccurate'] == True]\n",
    "\n",
    "         # Check if there are any laps left for the driver after filtering\n",
    "        if driver_data.empty:\n",
    "            print(f\"No valid laps for driver {driver}. Skipping.\")\n",
    "            continue\n",
    "        \n",
    "        # Add consistency feature\n",
    "        driver_data = add_consistency_feature(driver_data, window_size=window_size, max_diff=max_diff, n_to_remove=n_to_remove)\n",
    "\n",
    "        # Select the features needed for prediction\n",
    "        unknown_features = driver_data[['LapTime (s)', 'LapTimeDifference', 'Consistency']]\n",
    "\n",
    "        # Check if unknown_features has any rows (avoid empty input to the scaler)\n",
    "        if unknown_features.empty:\n",
    "            print(f\"No valid features for driver {driver}. Skipping.\")\n",
    "            continue\n",
    "\n",
    "        # Standardize the features\n",
    "        unknown_features_standardized = scaler.transform(unknown_features)\n",
    "\n",
    "        # Predict race pace laps\n",
    "        driver_data['is_race_pace'] = model_test.predict(unknown_features_standardized)\n",
    "\n",
    "        # Filter only race pace laps for this driver\n",
    "        race_pace_driver = driver_data[driver_data['is_race_pace'] == 1]\n",
    "\n",
    "        # Compute the median lap time for race pace laps\n",
    "        median_lap_time = race_pace_driver['LapTime (s)'].median()\n",
    "        \n",
    "        # Define the range for valid laps\n",
    "        lower_bound = median_lap_time - lap_time_tolerance\n",
    "        upper_bound = median_lap_time + lap_time_tolerance\n",
    "\n",
    "        # Keep only race pace laps within the median tolerance\n",
    "        race_pace_driver = race_pace_driver[\n",
    "            (race_pace_driver['LapTime (s)'] >= lower_bound) &\n",
    "            (race_pace_driver['LapTime (s)'] <= upper_bound)\n",
    "        ]\n",
    "\n",
    "        # Add the race pace laps to the list\n",
    "        race_pace_laps_all_drivers.append(race_pace_driver)\n",
    "\n",
    "    # Combine all race pace laps into a single DataFrame\n",
    "    race_pace_laps_all_drivers_df = pd.concat(race_pace_laps_all_drivers, ignore_index=True)\n",
    "\n",
    "    return race_pace_laps_all_drivers_df"
   ]
  },
  {
   "cell_type": "code",
   "execution_count": 46,
   "metadata": {},
   "outputs": [],
   "source": [
    "# Example: Apply to a specific event\n",
    "event = transformed_laps_dataframes[non_sprint_events[15]]\n",
    "\n",
    "# Call the function to get all race pace laps for the event\n",
    "all_race_pace_laps = get_race_pace_laps(event, scaler, model_test, window_size=3, max_diff=3, n_to_remove=2)"
   ]
  },
  {
   "cell_type": "code",
   "execution_count": 47,
   "metadata": {},
   "outputs": [
    {
     "name": "stderr",
     "output_type": "stream",
     "text": [
      "/Users/PietroPaolo/opt/anaconda3/envs/progLab/lib/python3.9/site-packages/fastf1/plotting/_plotting.py:237: FutureWarning: The function `team_color` is deprecated and will be removed in a future version. Use `fastf1.plotting.get_team_color` instead.\n",
      "  warnings.warn(\"The function `team_color` is deprecated and will be \"\n",
      "_plotting    WARNING \tCorrecting invalid user input 'red bull ' to 'red bull'.\n",
      "_plotting    WARNING \tCorrecting invalid user input 'haas  ' to 'haas'.\n"
     ]
    }
   ],
   "source": [
    "# order the team from the fastest (lowest median lap time) to slower\n",
    "team_order = (\n",
    "    all_race_pace_laps[[\"Team\", \"LapTime (s)\"]]\n",
    "    .groupby(\"Team\")\n",
    "    .median()[\"LapTime (s)\"]\n",
    "    .sort_values()\n",
    "    .index\n",
    ")\n",
    "\n",
    "# make a color palette associating team names to hex codes\n",
    "\n",
    "specific_color_kick_sauber = '#90EE90'  # Light green\n",
    "specific_color_alpha_tauri = '#1634cb'  # Specific blue color\n",
    "\n",
    "def get_team_color(team):\n",
    "    if team == 'Kick Sauber' or team == 'Alfa Romeo':\n",
    "        return specific_color_kick_sauber\n",
    "    elif team == 'AlphaTauri':\n",
    "        return specific_color_alpha_tauri\n",
    "    else:\n",
    "        try:\n",
    "            return fastf1.plotting.team_color(team)\n",
    "        except KeyError:\n",
    "            return '#000000'  # Default color (black) if team is not recognized\n",
    "\n",
    "team_palette = {team: get_team_color(team) for team in team_order}"
   ]
  },
  {
   "cell_type": "code",
   "execution_count": 48,
   "metadata": {},
   "outputs": [
    {
     "data": {
      "image/png": "[encoded data removed]",
      "text/plain": [
       "<Figure size 2000x1000 with 1 Axes>"
      ]
     },
     "metadata": {},
     "output_type": "display_data"
    }
   ],
   "source": [
    "# First, calculate the mean and median times for each team\n",
    "all_race_pace_laps.reset_index(drop=True, inplace=True)\n",
    "\n",
    "team_stats = all_race_pace_laps.groupby('Team')['LapTime (s)'].agg(['mean', 'median', 'min', 'max'])\n",
    "\n",
    "team_order = team_stats['median'].sort_values().index\n",
    "\n",
    "# Create the boxplot\n",
    "fig, ax = plt.subplots(figsize=(20, 10))  # Increased figure size to accommodate wider boxes\n",
    "box_plot = sns.boxplot(\n",
    "    data=all_race_pace_laps,\n",
    "    x=\"Team\",\n",
    "    y=\"LapTime (s)\",\n",
    "    hue=\"Team\",\n",
    "    order=team_order,\n",
    "    palette=team_palette,\n",
    "    whiskerprops=dict(color=\"white\"),\n",
    "    boxprops=dict(edgecolor=\"white\"),\n",
    "    medianprops=dict(color=\"grey\"),\n",
    "    capprops=dict(color=\"white\"),\n",
    "    width=0.5,  # Increased width value\n",
    "    dodge=False  # Ensure that boxes are centered under each team name\n",
    ")\n",
    "\n",
    "# Loop through the teams and add mean, median, and std text under each whisker\n",
    "for i, team in enumerate(team_order):\n",
    "    # Get the whisker positions (min or max depending on where you want to place the label)\n",
    "    whisker_position = team_stats.loc[team, 'min']  # Adjust to 'max' if you want the label under the upper whisker\n",
    "    \n",
    "    mean_time = team_stats.loc[team, 'mean']\n",
    "    median_time = team_stats.loc[team, 'median']\n",
    "    std_time = all_race_pace_laps[all_race_pace_laps['Team'] == team]['LapTime (s)'].std()  # Calculate std\n",
    "    \n",
    "    # Place the text below the whisker (min value in this case)\n",
    "    ax.text(\n",
    "        i, whisker_position - 0.5,  # Adjust the y position slightly below the whisker\n",
    "        f'Mean: {mean_time:.2f}\\nMedian: {median_time:.2f}\\nStd: {std_time:.2f}', \n",
    "        horizontalalignment='center', color='white', fontsize=10\n",
    "    )\n",
    "\n",
    "# Add the title and grid properties\n",
    "plt.title(f\"{session.event['EventName']} {session.event.year} Race Pace FP2\")\n",
    "plt.grid(visible=False)\n",
    "\n",
    "# Add credit text\n",
    "plt.text(\n",
    "    0.95, 0.1, 'Provided by:\\nPietro Paolo Melella',\n",
    "    verticalalignment='bottom', horizontalalignment='right',\n",
    "    transform=plt.gca().transAxes,\n",
    "    color='White', fontsize=12\n",
    ")\n",
    "\n",
    "# Remove the x-label\n",
    "ax.set(xlabel=None)\n",
    "# Set y-axis limit (based on data range, adjust accordingly)\n",
    "ax.set_ylim(team_stats['min'].min()-0.5, team_stats['mean'].max()+1.5)  # Example range, adjust based on your data\n",
    "\n",
    "plt.tight_layout()\n",
    "plt.show()"
   ]
  },
  {
   "cell_type": "code",
   "execution_count": 59,
   "metadata": {},
   "outputs": [
    {
     "data": {
      "text/html": [
       "<div>\n",
       "<style scoped>\n",
       "    .dataframe tbody tr th:only-of-type {\n",
       "        vertical-align: middle;\n",
       "    }\n",
       "\n",
       "    .dataframe tbody tr th {\n",
       "        vertical-align: top;\n",
       "    }\n",
       "\n",
       "    .dataframe thead th {\n",
       "        text-align: right;\n",
       "    }\n",
       "</style>\n",
       "<table border=\"1\" class=\"dataframe\">\n",
       "  <thead>\n",
       "    <tr style=\"text-align: right;\">\n",
       "      <th></th>\n",
       "      <th>Time</th>\n",
       "      <th>Driver</th>\n",
       "      <th>DriverNumber</th>\n",
       "      <th>LapTime</th>\n",
       "      <th>LapNumber</th>\n",
       "      <th>Stint</th>\n",
       "      <th>PitOutTime</th>\n",
       "      <th>PitInTime</th>\n",
       "      <th>Sector1Time</th>\n",
       "      <th>Sector2Time</th>\n",
       "      <th>...</th>\n",
       "      <th>TrackStatus</th>\n",
       "      <th>Position</th>\n",
       "      <th>Deleted</th>\n",
       "      <th>DeletedReason</th>\n",
       "      <th>FastF1Generated</th>\n",
       "      <th>IsAccurate</th>\n",
       "      <th>LapTime (s)</th>\n",
       "      <th>LapTimeDifference</th>\n",
       "      <th>Consistency</th>\n",
       "      <th>is_race_pace</th>\n",
       "    </tr>\n",
       "  </thead>\n",
       "  <tbody>\n",
       "    <tr>\n",
       "      <th>76</th>\n",
       "      <td>0 days 00:16:27.071000</td>\n",
       "      <td>COL</td>\n",
       "      <td>43</td>\n",
       "      <td>0 days 00:01:25.576000</td>\n",
       "      <td>2.0</td>\n",
       "      <td>1.0</td>\n",
       "      <td>NaT</td>\n",
       "      <td>NaT</td>\n",
       "      <td>0 days 00:00:17.621000</td>\n",
       "      <td>0 days 00:00:36.712000</td>\n",
       "      <td>...</td>\n",
       "      <td>12</td>\n",
       "      <td>NaN</td>\n",
       "      <td>False</td>\n",
       "      <td></td>\n",
       "      <td>False</td>\n",
       "      <td>True</td>\n",
       "      <td>85.576</td>\n",
       "      <td>9.586</td>\n",
       "      <td>1</td>\n",
       "      <td>1</td>\n",
       "    </tr>\n",
       "  </tbody>\n",
       "</table>\n",
       "<p>1 rows × 35 columns</p>\n",
       "</div>"
      ],
      "text/plain": [
       "                     Time Driver DriverNumber                LapTime  \\\n",
       "76 0 days 00:16:27.071000    COL           43 0 days 00:01:25.576000   \n",
       "\n",
       "    LapNumber  Stint PitOutTime PitInTime            Sector1Time  \\\n",
       "76        2.0    1.0        NaT       NaT 0 days 00:00:17.621000   \n",
       "\n",
       "              Sector2Time  ... TrackStatus Position Deleted DeletedReason  \\\n",
       "76 0 days 00:00:36.712000  ...          12      NaN   False                 \n",
       "\n",
       "    FastF1Generated  IsAccurate  LapTime (s)  LapTimeDifference  Consistency  \\\n",
       "76            False        True       85.576              9.586            1   \n",
       "\n",
       "   is_race_pace  \n",
       "76            1  \n",
       "\n",
       "[1 rows x 35 columns]"
      ]
     },
     "execution_count": 59,
     "metadata": {},
     "output_type": "execute_result"
    }
   ],
   "source": [
    "all_race_pace_laps.pick_drivers('COL')"
   ]
  }
 ],
 "metadata": {
  "kernelspec": {
   "display_name": "progLab",
   "language": "python",
   "name": "python3"
  },
  "language_info": {
   "codemirror_mode": {
    "name": "ipython",
    "version": 3
   },
   "file_extension": ".py",
   "mimetype": "text/x-python",
   "name": "python",
   "nbconvert_exporter": "python",
   "pygments_lexer": "ipython3",
   "version": "3.9.13"
  }
 },
 "nbformat": 4,
 "nbformat_minor": 2
}
