{
 "cells": [
  {
   "cell_type": "markdown",
   "id": "b3ff20a0",
   "metadata": {},
   "source": [
    "### 📂 Session Setup – Qualifying 2024 vs 2025\n",
    "\n",
    "This notebook loads and prepares qualifying session data from both 2024 and 2025 at Barcelona.  \n",
    "It enables side-by-side comparisons of driver performance across seasons using FastF1’s telemetry and lap data tools."
   ]
  },
  {
   "cell_type": "code",
   "execution_count": 1,
   "id": "3cb1f327",
   "metadata": {},
   "outputs": [],
   "source": [
    "import matplotlib.pyplot as plt\n",
    "import numpy as np\n",
    "import fastf1.plotting\n",
    "import seaborn as sns\n",
    "import pandas as pd\n",
    "import matplotlib.ticker as ticker\n",
    "from fastf1 import utils\n",
    "import matplotlib.pyplot as plt\n",
    "from fastf1.utils import delta_time\n",
    "import matplotlib.colors as mcolors\n",
    "import warnings\n"
   ]
  },
  {
   "cell_type": "code",
   "execution_count": 2,
   "id": "b8f5cf84",
   "metadata": {},
   "outputs": [
    {
     "name": "stderr",
     "output_type": "stream",
     "text": [
      "/Users/PietroPaolo/opt/anaconda3/envs/progLab/lib/python3.9/site-packages/fastf1/plotting/_plotting.py:57: FutureWarning: The `misc_mpl_mods` argument was dropped from `.setup_mpl()` in version 3.6.0 and has no effect anymore. It will be removed in a future version of FastF1.\n",
      "  warnings.warn(\n",
      "req         WARNING \tDEFAULT CACHE ENABLED! (8.14 GB) /Users/PietroPaolo/Library/Caches/fastf1\n",
      "core           INFO \tLoading data for Hungarian Grand Prix - Practice 2 [v3.6.0]\n",
      "req            INFO \tUsing cached data for session_info\n",
      "req            INFO \tUsing cached data for driver_info\n",
      "req            INFO \tUsing cached data for session_status_data\n",
      "req            INFO \tUsing cached data for track_status_data\n",
      "req            INFO \tUsing cached data for _extended_timing_data\n",
      "req            INFO \tUsing cached data for timing_app_data\n",
      "core           INFO \tProcessing timing data...\n",
      "req            INFO \tUsing cached data for car_data\n",
      "req            INFO \tUsing cached data for position_data\n",
      "req            INFO \tUsing cached data for weather_data\n",
      "req            INFO \tUsing cached data for race_control_messages\n",
      "core           INFO \tFinished loading data for 20 drivers: ['1', '4', '5', '6', '10', '12', '14', '16', '18', '22', '23', '27', '30', '31', '43', '44', '55', '63', '81', '87']\n"
     ]
    }
   ],
   "source": [
    "# enable some matplotlib patches for plotting timedelta values and load\n",
    "# FastF1's default color scheme\n",
    "fastf1.plotting.setup_mpl(misc_mpl_mods=False, color_scheme='fastf1' )\n",
    "\n",
    "\n",
    "# load a session and its telemetry data\n",
    "session1 = fastf1.get_session(2025, 'Hungary Grand Prix', 'FP2')\n",
    "session1.load()\n",
    "# In this way i Can exclude the box laps\n",
    "laps1 = session1.laps.pick_wo_box()\n",
    "\n",
    "# Pick just the accurate laps\n",
    "laps1 = laps1[laps1['IsAccurate']==True]\n",
    "\n",
    "circuit_info = session1.get_circuit_info()\n",
    "\n",
    "\n"
   ]
  },
  {
   "cell_type": "code",
   "execution_count": 3,
   "id": "2c0310b8",
   "metadata": {},
   "outputs": [
    {
     "name": "stderr",
     "output_type": "stream",
     "text": [
      "/Users/PietroPaolo/opt/anaconda3/envs/progLab/lib/python3.9/site-packages/fastf1/plotting/_plotting.py:57: FutureWarning: The `misc_mpl_mods` argument was dropped from `.setup_mpl()` in version 3.6.0 and has no effect anymore. It will be removed in a future version of FastF1.\n",
      "  warnings.warn(\n",
      "core           INFO \tLoading data for Hungarian Grand Prix - Race [v3.6.0]\n",
      "req            INFO \tUsing cached data for session_info\n",
      "req            INFO \tUsing cached data for driver_info\n",
      "req            INFO \tUsing cached data for session_status_data\n",
      "req            INFO \tUsing cached data for lap_count\n",
      "req            INFO \tUsing cached data for track_status_data\n",
      "req            INFO \tUsing cached data for _extended_timing_data\n",
      "req            INFO \tUsing cached data for timing_app_data\n",
      "core           INFO \tProcessing timing data...\n",
      "req            INFO \tUsing cached data for car_data\n",
      "req            INFO \tUsing cached data for position_data\n",
      "req            INFO \tUsing cached data for weather_data\n",
      "req            INFO \tUsing cached data for race_control_messages\n",
      "core           INFO \tFinished loading data for 20 drivers: ['4', '81', '63', '16', '14', '5', '18', '30', '1', '12', '6', '44', '27', '55', '23', '31', '22', '43', '10', '87']\n"
     ]
    }
   ],
   "source": [
    "# enable some matplotlib patches for plotting timedelta values and load\n",
    "# FastF1's default color scheme\n",
    "fastf1.plotting.setup_mpl(misc_mpl_mods=False, color_scheme='fastf1' )\n",
    "\n",
    "\n",
    "# load a session and its telemetry data\n",
    "session2 = fastf1.get_session(2025, 'Hungary Grand Prix', 'R')\n",
    "session2.load()\n",
    "# In this way i Can exclude the box laps\n",
    "laps2 = session2.laps.pick_wo_box()\n",
    "\n",
    "# Pick just the accurate laps\n",
    "laps2 = laps2[laps2['IsAccurate']==True]\n",
    "\n",
    "circuit_info = session2.get_circuit_info()\n",
    "\n",
    "\n"
   ]
  },
  {
   "cell_type": "code",
   "execution_count": 4,
   "id": "8c26f174",
   "metadata": {},
   "outputs": [],
   "source": [
    "drivers1=laps1['Driver'].unique()\n",
    "compounds1 = laps1['Compound'].unique()\n",
    "\n",
    "drivers2 =laps2['Driver'].unique()\n",
    "compounds2 = laps2['Compound'].unique()\n"
   ]
  },
  {
   "cell_type": "code",
   "execution_count": 5,
   "id": "b3be13ce",
   "metadata": {},
   "outputs": [],
   "source": [
    "def timedelta_to_seconds(td: pd.Timedelta) -> float:\n",
    "    \"\"\"\n",
    "    Convert a pandas Timedelta to a float representing the total seconds.\n",
    "    \n",
    "    Parameters:\n",
    "    - td: pd.Timedelta\n",
    "    \n",
    "    Returns:\n",
    "    - float: total seconds\n",
    "    \"\"\"\n",
    "    return td.total_seconds()"
   ]
  },
  {
   "cell_type": "markdown",
   "id": "1ea7cff3",
   "metadata": {},
   "source": [
    "### ⏱️ Lap Time Transformation and Team Sorting\n",
    "\n",
    "Lap times are converted into seconds for accurate statistical analysis.  \n",
    "Teams are then ranked by median lap time to evaluate relative performance gains or losses between the two years."
   ]
  },
  {
   "cell_type": "code",
   "execution_count": 6,
   "id": "fed1b983",
   "metadata": {},
   "outputs": [],
   "source": [
    "# Transform the laps in total seconds\n",
    "transformed_laps1 = laps1.copy()\n",
    "transformed_laps1.loc[:, \"LapTime (s)\"] = laps1[\"LapTime\"].dt.total_seconds()\n",
    "\n",
    "transformed_laps2 = laps2.copy()\n",
    "transformed_laps2.loc[:, \"LapTime (s)\"] = laps2[\"LapTime\"].dt.total_seconds()\n",
    "\n",
    "\n",
    "# order the team from the fastest (lowest median lap time) to slower\n",
    "team_order1 = (\n",
    "    transformed_laps1[[\"Team\", \"LapTime (s)\"]]\n",
    "    .groupby(\"Team\")\n",
    "    .median()[\"LapTime (s)\"]\n",
    "    .sort_values()\n",
    "    .index\n",
    ")\n",
    "\n",
    "# order the team from the fastest (lowest median lap time) to slower\n",
    "team_order2 = (\n",
    "    transformed_laps2[[\"Team\", \"LapTime (s)\"]]\n",
    "    .groupby(\"Team\")\n",
    "    .median()[\"LapTime (s)\"]\n",
    "    .sort_values()\n",
    "    .index\n",
    ")\n",
    "\n",
    "# Manually assign official or visually appropriate colors to each team\n",
    "TEAM_COLORS = {\n",
    "    'McLaren': '#FF8700',         # Papaya\n",
    "    'Ferrari': '#DC0000',         # Classic red\n",
    "    'Red Bull Racing': '#1E41FF', # Deep blue\n",
    "    'Mercedes': '#00D2BE',        # Teal\n",
    "    'Williams': '#005AFF',        # Royal blue\n",
    "    'Racing Bulls': '#6692FF',    # Light blue\n",
    "    'Kick Sauber': '#90EE90',     # Light green\n",
    "    'Alpine': '#FE86BC',          # Pinkish magenta\n",
    "    'Haas F1 Team': '#B6BABD',    # Silver/gray\n",
    "    'Aston Martin': '#006F62',    # Racing green\n",
    "}\n",
    "\n",
    "# Assign team colors safely\n",
    "def get_team_color(team):\n",
    "    team = team.strip()\n",
    "    return TEAM_COLORS.get(team, '#000000')  # fallback to black\n",
    "\n",
    "# Create the palette\n",
    "team_palette = {team: get_team_color(team) for team in team_order1}\n"
   ]
  },
  {
   "cell_type": "code",
   "execution_count": 7,
   "id": "c5c91c72",
   "metadata": {},
   "outputs": [],
   "source": [
    "colors = {\n",
    "    # Red Bull Racing\n",
    "    \"VER\": \"blue\",  # Max Verstappen\n",
    "    \"TSU\": \"blue\",  # Liam Lawson\n",
    "\n",
    "    # McLaren\n",
    "    \"NOR\": \"orange\",  # Lando Norris\n",
    "    \"PIA\": \"orange\",  # Oscar Piastri\n",
    "\n",
    "    # Ferrari\n",
    "    \"LEC\": \"red\",    # Charles Leclerc§\n",
    "    \"HAM\": \"red\",    # Lewis Hamilton\n",
    "\n",
    "    # Mercedes\n",
    "    \"RUS\": \"grey\",   # George Russell\n",
    "    \"ANT\": \"grey\",   # Andrea Kimi Antonelli\n",
    "\n",
    "    # Aston Martin\n",
    "    \"ALO\": \"green\",  # Fernando Alonso\n",
    "    \"STR\": \"green\",  # Lance Stroll\n",
    "\n",
    "    # Alpine\n",
    "    \"GAS\": \"pink\",   # Pierre Gasly\n",
    "    \"DOO\": \"pink\",   # Jack Doohan\n",
    "\n",
    "    # Haas\n",
    "    \"OCO\": \"olive\",  # Esteban Ocon\n",
    "    \"BEA\": \"olive\",  # Oliver Bearman\n",
    "\n",
    "    # Racing Bulls (formerly AlphaTauri)\n",
    "    \"HAD\": \"#9932CC\",  # Isack Hadjar\n",
    "    \"LAW\": \"#9932CC\",  # Yuki Tsunoda\n",
    "\n",
    "    # Williams\n",
    "    \"ALB\": \"navy\",   # Alexander Albon\n",
    "    \"SAI\": \"navy\",   # Carlos Sainz Jr.\n",
    "\n",
    "    # Sauber (transitioning to Audi)\n",
    "    \"HUL\": \"lime\",   # Nico Hülkenberg\n",
    "    \"BOR\": \"lime\",   # Gabriel Bortoleto\n",
    "}"
   ]
  },
  {
   "cell_type": "code",
   "execution_count": 8,
   "id": "3f74458d",
   "metadata": {},
   "outputs": [],
   "source": [
    "from scipy.interpolate import PchipInterpolator\n",
    "\n",
    "def interpolate_dataframe(df):\n",
    "    target_points=5000\n",
    "    new_df = pd.DataFrame()\n",
    "    n = len(df)\n",
    "\n",
    "    original_index = np.linspace(0, 1, n)\n",
    "    new_index = np.linspace(0, 1, target_points)\n",
    "\n",
    "    for column in df.columns:\n",
    "        original_data = df[column].to_numpy()\n",
    "        dtype = original_data.dtype\n",
    "\n",
    "        # Handle continuous numerical values\n",
    "        if np.issubdtype(dtype, np.floating):\n",
    "            interpolator = PchipInterpolator(original_index, original_data)\n",
    "            new_data = interpolator(new_index)\n",
    "\n",
    "        # Handle datetime64\n",
    "        elif np.issubdtype(dtype, np.datetime64):\n",
    "            time_int = original_data.astype('datetime64[ns]').astype('int64')\n",
    "            interpolator = PchipInterpolator(original_index, time_int)\n",
    "            new_data = pd.to_datetime(interpolator(new_index))\n",
    "\n",
    "        # Handle timedelta64\n",
    "        elif np.issubdtype(dtype, np.timedelta64):\n",
    "            time_int = original_data.astype('timedelta64[ns]').astype('int64')\n",
    "            interpolator = PchipInterpolator(original_index, time_int)\n",
    "            new_data = pd.to_timedelta(interpolator(new_index))\n",
    "\n",
    "        # Handle integer-like data (e.g., gears) – round PCHIP\n",
    "        elif np.issubdtype(dtype, np.integer):\n",
    "            interpolator = PchipInterpolator(original_index, original_data)\n",
    "            new_data = np.round(interpolator(new_index)).astype(original_data.dtype)\n",
    "\n",
    "        # Handle booleans – use nearest (forward-fill style)\n",
    "        elif np.issubdtype(dtype, np.bool_):\n",
    "            nearest_indices = np.clip(np.round(new_index * (n - 1)).astype(int), 0, n - 1)\n",
    "            new_data = original_data[nearest_indices]\n",
    "\n",
    "        # Handle strings/objects – use nearest\n",
    "        else:\n",
    "            nearest_indices = np.clip(np.round(new_index * (n - 1)).astype(int), 0, n - 1)\n",
    "            new_data = original_data[nearest_indices]\n",
    "\n",
    "        new_df[column] = new_data\n",
    "\n",
    "    return new_df"
   ]
  },
  {
   "cell_type": "code",
   "execution_count": 9,
   "id": "5eb49eea",
   "metadata": {},
   "outputs": [
    {
     "name": "stdout",
     "output_type": "stream",
     "text": [
      "Current directory: /Users/PietroPaolo/Desktop/GitHub/F1\n"
     ]
    }
   ],
   "source": [
    "import os\n",
    "os.chdir('/Users/PietroPaolo/Desktop/GitHub/F1/')\n",
    "print(\"Current directory:\", os.getcwd())  # Should now print `/Users/PietroPaolo/Desktop/GitHub/F1/`"
   ]
  },
  {
   "cell_type": "code",
   "execution_count": 10,
   "id": "9ed90ddd",
   "metadata": {},
   "outputs": [
    {
     "name": "stderr",
     "output_type": "stream",
     "text": [
      "/Users/PietroPaolo/opt/anaconda3/envs/progLab/lib/python3.9/site-packages/fastf1/plotting/_plotting.py:57: FutureWarning: The `misc_mpl_mods` argument was dropped from `.setup_mpl()` in version 3.6.0 and has no effect anymore. It will be removed in a future version of FastF1.\n",
      "  warnings.warn(\n",
      "core           INFO \tLoading data for Bahrain Grand Prix - Practice 2 [v3.6.0]\n",
      "req            INFO \tUsing cached data for session_info\n",
      "req            INFO \tUsing cached data for driver_info\n",
      "req            INFO \tUsing cached data for session_status_data\n",
      "req            INFO \tUsing cached data for track_status_data\n",
      "req            INFO \tUsing cached data for _extended_timing_data\n",
      "req            INFO \tUsing cached data for timing_app_data\n",
      "core           INFO \tProcessing timing data...\n",
      "req            INFO \tUsing cached data for car_data\n",
      "req            INFO \tUsing cached data for position_data\n",
      "req            INFO \tUsing cached data for weather_data\n",
      "req            INFO \tUsing cached data for race_control_messages\n",
      "core           INFO \tFinished loading data for 20 drivers: ['1', '2', '3', '4', '10', '11', '14', '16', '18', '20', '22', '23', '24', '27', '31', '44', '55', '63', '77', '81']\n",
      "core           INFO \tLoading data for Saudi Arabian Grand Prix - Practice 2 [v3.6.0]\n",
      "req            INFO \tUsing cached data for session_info\n",
      "req            INFO \tUsing cached data for driver_info\n",
      "req            INFO \tUsing cached data for session_status_data\n",
      "req            INFO \tUsing cached data for track_status_data\n",
      "req            INFO \tUsing cached data for _extended_timing_data\n",
      "req            INFO \tUsing cached data for timing_app_data\n",
      "core           INFO \tProcessing timing data...\n"
     ]
    },
    {
     "name": "stdout",
     "output_type": "stream",
     "text": [
      "Transformed laps for Bahrain Grand Prix FP2 loaded successfully.\n"
     ]
    },
    {
     "name": "stderr",
     "output_type": "stream",
     "text": [
      "req            INFO \tUsing cached data for car_data\n",
      "req            INFO \tUsing cached data for position_data\n",
      "req            INFO \tUsing cached data for weather_data\n",
      "req            INFO \tUsing cached data for race_control_messages\n",
      "core           INFO \tFinished loading data for 20 drivers: ['1', '2', '3', '4', '10', '11', '14', '16', '18', '20', '22', '23', '24', '27', '31', '44', '55', '63', '77', '81']\n",
      "core           INFO \tLoading data for Australian Grand Prix - Practice 2 [v3.6.0]\n",
      "req            INFO \tUsing cached data for session_info\n",
      "req            INFO \tUsing cached data for driver_info\n",
      "req            INFO \tUsing cached data for session_status_data\n",
      "req            INFO \tUsing cached data for track_status_data\n",
      "req            INFO \tUsing cached data for _extended_timing_data\n",
      "req            INFO \tUsing cached data for timing_app_data\n",
      "core           INFO \tProcessing timing data...\n"
     ]
    },
    {
     "name": "stdout",
     "output_type": "stream",
     "text": [
      "Transformed laps for Saudi Arabian Grand Prix FP2 loaded successfully.\n"
     ]
    },
    {
     "name": "stderr",
     "output_type": "stream",
     "text": [
      "core        WARNING \tNo lap data for driver 23\n",
      "core        WARNING \tFailed to perform lap accuracy check - all laps marked as inaccurate (driver 23)\n",
      "req            INFO \tUsing cached data for car_data\n",
      "req            INFO \tUsing cached data for position_data\n",
      "req            INFO \tUsing cached data for weather_data\n",
      "req            INFO \tUsing cached data for race_control_messages\n",
      "core           INFO \tFinished loading data for 20 drivers: ['1', '2', '3', '4', '10', '11', '14', '16', '18', '20', '22', '23', '24', '27', '31', '44', '55', '63', '77', '81']\n",
      "core           INFO \tLoading data for Japanese Grand Prix - Practice 2 [v3.6.0]\n",
      "req            INFO \tUsing cached data for session_info\n",
      "req            INFO \tUsing cached data for driver_info\n",
      "req            INFO \tUsing cached data for session_status_data\n",
      "req            INFO \tUsing cached data for track_status_data\n",
      "req            INFO \tUsing cached data for _extended_timing_data\n",
      "req            INFO \tUsing cached data for timing_app_data\n",
      "core           INFO \tProcessing timing data...\n",
      "core        WARNING \tNo lap data for driver 1\n",
      "core        WARNING \tNo lap data for driver 2\n",
      "core        WARNING \tNo lap data for driver 10\n",
      "core        WARNING \tNo lap data for driver 11\n",
      "core        WARNING \tNo lap data for driver 14\n",
      "core        WARNING \tNo lap data for driver 18\n",
      "core        WARNING \tNo lap data for driver 63\n",
      "core        WARNING \tFailed to perform lap accuracy check - all laps marked as inaccurate (driver 1)\n",
      "core        WARNING \tFailed to perform lap accuracy check - all laps marked as inaccurate (driver 2)\n",
      "core        WARNING \tFailed to perform lap accuracy check - all laps marked as inaccurate (driver 10)\n",
      "core        WARNING \tFailed to perform lap accuracy check - all laps marked as inaccurate (driver 11)\n",
      "core        WARNING \tFailed to perform lap accuracy check - all laps marked as inaccurate (driver 14)\n"
     ]
    },
    {
     "name": "stdout",
     "output_type": "stream",
     "text": [
      "Transformed laps for Australian Grand Prix FP2 loaded successfully.\n"
     ]
    },
    {
     "name": "stderr",
     "output_type": "stream",
     "text": [
      "core        WARNING \tFailed to perform lap accuracy check - all laps marked as inaccurate (driver 18)\n",
      "core        WARNING \tFailed to perform lap accuracy check - all laps marked as inaccurate (driver 63)\n",
      "req            INFO \tUsing cached data for car_data\n",
      "req            INFO \tUsing cached data for position_data\n",
      "req            INFO \tUsing cached data for weather_data\n",
      "req            INFO \tUsing cached data for race_control_messages\n",
      "core           INFO \tFinished loading data for 20 drivers: ['1', '2', '3', '4', '10', '11', '14', '16', '18', '20', '22', '23', '24', '27', '31', '44', '55', '63', '77', '81']\n",
      "core           INFO \tLoading data for Emilia Romagna Grand Prix - Practice 2 [v3.6.0]\n",
      "req            INFO \tUsing cached data for session_info\n",
      "req            INFO \tUsing cached data for driver_info\n",
      "req            INFO \tUsing cached data for session_status_data\n",
      "req            INFO \tUsing cached data for track_status_data\n",
      "req            INFO \tUsing cached data for _extended_timing_data\n",
      "req            INFO \tUsing cached data for timing_app_data\n",
      "core           INFO \tProcessing timing data...\n"
     ]
    },
    {
     "name": "stdout",
     "output_type": "stream",
     "text": [
      "Transformed laps for Japanese Grand Prix FP2 loaded successfully.\n"
     ]
    },
    {
     "name": "stderr",
     "output_type": "stream",
     "text": [
      "req            INFO \tUsing cached data for car_data\n",
      "req            INFO \tUsing cached data for position_data\n",
      "req            INFO \tUsing cached data for weather_data\n",
      "req            INFO \tUsing cached data for race_control_messages\n",
      "core           INFO \tFinished loading data for 20 drivers: ['1', '2', '3', '4', '10', '11', '14', '16', '18', '20', '22', '23', '24', '27', '31', '44', '55', '63', '77', '81']\n",
      "core           INFO \tLoading data for Canadian Grand Prix - Practice 2 [v3.6.0]\n",
      "req            INFO \tUsing cached data for session_info\n",
      "req            INFO \tUsing cached data for driver_info\n",
      "req            INFO \tUsing cached data for session_status_data\n",
      "req            INFO \tUsing cached data for track_status_data\n",
      "req            INFO \tUsing cached data for _extended_timing_data\n",
      "req            INFO \tUsing cached data for timing_app_data\n",
      "core           INFO \tProcessing timing data...\n"
     ]
    },
    {
     "name": "stdout",
     "output_type": "stream",
     "text": [
      "Transformed laps for Emilia Romagna Grand Prix FP2 loaded successfully.\n"
     ]
    },
    {
     "name": "stderr",
     "output_type": "stream",
     "text": [
      "req            INFO \tUsing cached data for car_data\n",
      "req            INFO \tUsing cached data for position_data\n",
      "req            INFO \tUsing cached data for weather_data\n",
      "req            INFO \tUsing cached data for race_control_messages\n",
      "core           INFO \tFinished loading data for 20 drivers: ['1', '2', '3', '4', '10', '11', '14', '16', '18', '20', '22', '23', '24', '27', '31', '44', '55', '63', '77', '81']\n",
      "core           INFO \tLoading data for Spanish Grand Prix - Practice 2 [v3.6.0]\n",
      "req            INFO \tUsing cached data for session_info\n",
      "req            INFO \tUsing cached data for driver_info\n",
      "req            INFO \tUsing cached data for session_status_data\n",
      "req            INFO \tUsing cached data for track_status_data\n",
      "req            INFO \tUsing cached data for _extended_timing_data\n",
      "req            INFO \tUsing cached data for timing_app_data\n",
      "core           INFO \tProcessing timing data...\n"
     ]
    },
    {
     "name": "stdout",
     "output_type": "stream",
     "text": [
      "Transformed laps for Canadian Grand Prix FP2 loaded successfully.\n"
     ]
    },
    {
     "name": "stderr",
     "output_type": "stream",
     "text": [
      "req            INFO \tUsing cached data for car_data\n",
      "req            INFO \tUsing cached data for position_data\n",
      "req            INFO \tUsing cached data for weather_data\n",
      "req            INFO \tUsing cached data for race_control_messages\n",
      "core           INFO \tFinished loading data for 20 drivers: ['1', '2', '3', '4', '10', '11', '14', '16', '18', '20', '22', '23', '24', '27', '31', '44', '55', '63', '77', '81']\n",
      "core           INFO \tLoading data for British Grand Prix - Practice 2 [v3.6.0]\n",
      "req            INFO \tUsing cached data for session_info\n",
      "req            INFO \tUsing cached data for driver_info\n",
      "req            INFO \tUsing cached data for session_status_data\n",
      "req            INFO \tUsing cached data for track_status_data\n",
      "req            INFO \tUsing cached data for _extended_timing_data\n",
      "req            INFO \tUsing cached data for timing_app_data\n",
      "core           INFO \tProcessing timing data...\n"
     ]
    },
    {
     "name": "stdout",
     "output_type": "stream",
     "text": [
      "Transformed laps for Spanish Grand Prix FP2 loaded successfully.\n"
     ]
    },
    {
     "name": "stderr",
     "output_type": "stream",
     "text": [
      "req            INFO \tUsing cached data for car_data\n",
      "req            INFO \tUsing cached data for position_data\n",
      "req            INFO \tUsing cached data for weather_data\n",
      "req            INFO \tUsing cached data for race_control_messages\n",
      "core           INFO \tFinished loading data for 20 drivers: ['1', '2', '3', '4', '10', '11', '14', '16', '18', '20', '22', '23', '24', '27', '31', '44', '55', '63', '77', '81']\n",
      "core           INFO \tLoading data for Hungarian Grand Prix - Practice 2 [v3.6.0]\n",
      "req            INFO \tUsing cached data for session_info\n",
      "req            INFO \tUsing cached data for driver_info\n",
      "req            INFO \tUsing cached data for session_status_data\n",
      "req            INFO \tUsing cached data for track_status_data\n",
      "req            INFO \tUsing cached data for _extended_timing_data\n",
      "req            INFO \tUsing cached data for timing_app_data\n",
      "core           INFO \tProcessing timing data...\n"
     ]
    },
    {
     "name": "stdout",
     "output_type": "stream",
     "text": [
      "Transformed laps for British Grand Prix FP2 loaded successfully.\n"
     ]
    },
    {
     "name": "stderr",
     "output_type": "stream",
     "text": [
      "req            INFO \tUsing cached data for car_data\n",
      "req            INFO \tUsing cached data for position_data\n",
      "req            INFO \tUsing cached data for weather_data\n",
      "req            INFO \tUsing cached data for race_control_messages\n",
      "core           INFO \tFinished loading data for 20 drivers: ['1', '2', '3', '4', '10', '11', '14', '16', '18', '20', '22', '23', '24', '27', '31', '44', '55', '63', '77', '81']\n",
      "core           INFO \tLoading data for Belgian Grand Prix - Practice 2 [v3.6.0]\n",
      "req            INFO \tUsing cached data for session_info\n",
      "req            INFO \tUsing cached data for driver_info\n",
      "req            INFO \tUsing cached data for session_status_data\n",
      "req            INFO \tUsing cached data for track_status_data\n",
      "req            INFO \tUsing cached data for _extended_timing_data\n",
      "req            INFO \tUsing cached data for timing_app_data\n",
      "core           INFO \tProcessing timing data...\n"
     ]
    },
    {
     "name": "stdout",
     "output_type": "stream",
     "text": [
      "Transformed laps for Hungarian Grand Prix FP2 loaded successfully.\n"
     ]
    },
    {
     "name": "stderr",
     "output_type": "stream",
     "text": [
      "req            INFO \tUsing cached data for car_data\n",
      "req            INFO \tUsing cached data for position_data\n",
      "req            INFO \tUsing cached data for weather_data\n",
      "req            INFO \tUsing cached data for race_control_messages\n",
      "core           INFO \tFinished loading data for 20 drivers: ['1', '2', '3', '4', '10', '11', '14', '16', '18', '20', '22', '23', '24', '27', '31', '44', '55', '63', '77', '81']\n",
      "core           INFO \tLoading data for Dutch Grand Prix - Practice 2 [v3.6.0]\n",
      "req            INFO \tUsing cached data for session_info\n",
      "req            INFO \tUsing cached data for driver_info\n",
      "req            INFO \tUsing cached data for session_status_data\n",
      "req            INFO \tUsing cached data for track_status_data\n",
      "req            INFO \tUsing cached data for _extended_timing_data\n",
      "req            INFO \tUsing cached data for timing_app_data\n",
      "core           INFO \tProcessing timing data...\n"
     ]
    },
    {
     "name": "stdout",
     "output_type": "stream",
     "text": [
      "Transformed laps for Belgian Grand Prix FP2 loaded successfully.\n"
     ]
    },
    {
     "name": "stderr",
     "output_type": "stream",
     "text": [
      "req            INFO \tUsing cached data for car_data\n",
      "req            INFO \tUsing cached data for position_data\n",
      "req            INFO \tUsing cached data for weather_data\n",
      "req            INFO \tUsing cached data for race_control_messages\n",
      "core           INFO \tFinished loading data for 20 drivers: ['1', '2', '3', '4', '10', '11', '14', '16', '18', '20', '22', '23', '24', '27', '31', '44', '55', '63', '77', '81']\n",
      "core           INFO \tLoading data for Italian Grand Prix - Practice 2 [v3.6.0]\n",
      "req            INFO \tUsing cached data for session_info\n",
      "req            INFO \tUsing cached data for driver_info\n",
      "req            INFO \tUsing cached data for session_status_data\n",
      "req            INFO \tUsing cached data for track_status_data\n",
      "req            INFO \tUsing cached data for _extended_timing_data\n",
      "req            INFO \tUsing cached data for timing_app_data\n",
      "core           INFO \tProcessing timing data...\n"
     ]
    },
    {
     "name": "stdout",
     "output_type": "stream",
     "text": [
      "Transformed laps for Dutch Grand Prix FP2 loaded successfully.\n"
     ]
    },
    {
     "name": "stderr",
     "output_type": "stream",
     "text": [
      "req            INFO \tUsing cached data for car_data\n",
      "req            INFO \tUsing cached data for position_data\n",
      "req            INFO \tUsing cached data for weather_data\n",
      "req            INFO \tUsing cached data for race_control_messages\n",
      "core           INFO \tFinished loading data for 20 drivers: ['1', '3', '4', '10', '11', '14', '16', '18', '20', '22', '23', '24', '27', '31', '43', '44', '55', '63', '77', '81']\n",
      "core           INFO \tLoading data for Singapore Grand Prix - Practice 2 [v3.6.0]\n",
      "req            INFO \tUsing cached data for session_info\n",
      "req            INFO \tUsing cached data for driver_info\n",
      "req            INFO \tUsing cached data for session_status_data\n",
      "req            INFO \tUsing cached data for track_status_data\n",
      "req            INFO \tUsing cached data for _extended_timing_data\n",
      "req            INFO \tUsing cached data for timing_app_data\n",
      "core           INFO \tProcessing timing data...\n"
     ]
    },
    {
     "name": "stdout",
     "output_type": "stream",
     "text": [
      "Transformed laps for Italian Grand Prix FP2 loaded successfully.\n"
     ]
    },
    {
     "name": "stderr",
     "output_type": "stream",
     "text": [
      "req            INFO \tUsing cached data for car_data\n",
      "req            INFO \tUsing cached data for position_data\n",
      "req            INFO \tUsing cached data for weather_data\n",
      "req            INFO \tUsing cached data for race_control_messages\n",
      "core           INFO \tFinished loading data for 20 drivers: ['1', '3', '4', '10', '11', '14', '16', '18', '20', '22', '23', '24', '27', '31', '43', '44', '55', '63', '77', '81']\n",
      "events      WARNING \tCorrecting user input 'Mexican Grand Prix' to 'Mexico City Grand Prix'\n",
      "core           INFO \tLoading data for Mexico City Grand Prix - Practice 2 [v3.6.0]\n",
      "req            INFO \tUsing cached data for session_info\n",
      "req            INFO \tUsing cached data for driver_info\n",
      "req            INFO \tUsing cached data for session_status_data\n",
      "req            INFO \tUsing cached data for track_status_data\n",
      "req            INFO \tUsing cached data for _extended_timing_data\n",
      "req            INFO \tUsing cached data for timing_app_data\n",
      "core           INFO \tProcessing timing data...\n",
      "core        WARNING \tNo lap data for driver 23\n"
     ]
    },
    {
     "name": "stdout",
     "output_type": "stream",
     "text": [
      "Transformed laps for Singapore Grand Prix FP2 loaded successfully.\n"
     ]
    },
    {
     "name": "stderr",
     "output_type": "stream",
     "text": [
      "core        WARNING \tFailed to perform lap accuracy check - all laps marked as inaccurate (driver 23)\n",
      "req            INFO \tUsing cached data for car_data\n",
      "req            INFO \tUsing cached data for position_data\n",
      "req            INFO \tUsing cached data for weather_data\n",
      "req            INFO \tUsing cached data for race_control_messages\n",
      "core           INFO \tFinished loading data for 20 drivers: ['1', '4', '10', '11', '14', '16', '18', '20', '22', '23', '24', '27', '30', '31', '43', '44', '55', '63', '77', '81']\n",
      "core           INFO \tLoading data for Las Vegas Grand Prix - Practice 2 [v3.6.0]\n",
      "req            INFO \tUsing cached data for session_info\n",
      "req            INFO \tUsing cached data for driver_info\n",
      "req            INFO \tUsing cached data for session_status_data\n",
      "req            INFO \tUsing cached data for track_status_data\n",
      "req            INFO \tUsing cached data for _extended_timing_data\n",
      "req            INFO \tUsing cached data for timing_app_data\n",
      "core           INFO \tProcessing timing data...\n"
     ]
    },
    {
     "name": "stdout",
     "output_type": "stream",
     "text": [
      "Transformed laps for Mexican Grand Prix FP2 loaded successfully.\n"
     ]
    },
    {
     "name": "stderr",
     "output_type": "stream",
     "text": [
      "req            INFO \tUsing cached data for car_data\n",
      "req            INFO \tUsing cached data for position_data\n",
      "req            INFO \tUsing cached data for weather_data\n",
      "req            INFO \tUsing cached data for race_control_messages\n",
      "core           INFO \tFinished loading data for 20 drivers: ['1', '4', '10', '11', '14', '16', '18', '20', '22', '23', '24', '27', '30', '31', '43', '44', '55', '63', '77', '81']\n",
      "core           INFO \tLoading data for Abu Dhabi Grand Prix - Practice 2 [v3.6.0]\n",
      "req            INFO \tUsing cached data for session_info\n",
      "req            INFO \tUsing cached data for driver_info\n",
      "req            INFO \tUsing cached data for session_status_data\n",
      "req            INFO \tUsing cached data for track_status_data\n",
      "req            INFO \tUsing cached data for _extended_timing_data\n",
      "req            INFO \tUsing cached data for timing_app_data\n",
      "core           INFO \tProcessing timing data...\n"
     ]
    },
    {
     "name": "stdout",
     "output_type": "stream",
     "text": [
      "Transformed laps for Las Vegas Grand Prix FP2 loaded successfully.\n"
     ]
    },
    {
     "name": "stderr",
     "output_type": "stream",
     "text": [
      "req            INFO \tUsing cached data for car_data\n",
      "req            INFO \tUsing cached data for position_data\n",
      "req            INFO \tUsing cached data for weather_data\n",
      "req            INFO \tUsing cached data for race_control_messages\n",
      "core           INFO \tFinished loading data for 20 drivers: ['1', '4', '10', '11', '14', '16', '18', '20', '22', '23', '24', '27', '30', '43', '44', '55', '61', '63', '77', '81']\n"
     ]
    },
    {
     "name": "stdout",
     "output_type": "stream",
     "text": [
      "Transformed laps for Abu Dhabi Grand Prix FP2 loaded successfully.\n",
      "Accuracy: 0.9166666666666666\n",
      "Classification Report:\n",
      "               precision    recall  f1-score   support\n",
      "\n",
      "           0       0.85      0.96      0.90        23\n",
      "           1       0.97      0.89      0.93        37\n",
      "\n",
      "    accuracy                           0.92        60\n",
      "   macro avg       0.91      0.92      0.91        60\n",
      "weighted avg       0.92      0.92      0.92        60\n",
      "\n",
      "Pipeline saved to race_pace_pipeline.pkl\n"
     ]
    }
   ],
   "source": [
    "import sys\n",
    "import import_ipynb\n",
    "\n",
    "# Add the parent directory to the Python module search path\n",
    "sys.path.append('/Users/PietroPaolo/Desktop/GitHub/F1/')\n",
    "\n",
    "# Import the RacePaceAnalyzer class from the notebook\n",
    "from model_prediction_race_pace import RacePaceAnalyzer"
   ]
  },
  {
   "cell_type": "code",
   "execution_count": 11,
   "id": "ed2a2944",
   "metadata": {},
   "outputs": [
    {
     "name": "stdout",
     "output_type": "stream",
     "text": [
      "Pipeline loaded successfully\n"
     ]
    }
   ],
   "source": [
    "# Example: Analyze event data\n",
    "# Initialize the analyzer\n",
    "# Example: Analyze event data\n",
    "# Initialize the analyzer\n",
    "analyzer = RacePaceAnalyzer()\n",
    "\n",
    "# Load the pipeline\n",
    "analyzer.load_model(path='race_pace_pipeline.pkl')\n",
    "\n",
    "race_pace_laps_fp2 = analyzer.get_race_pace_laps(transformed_laps1)\n"
   ]
  },
  {
   "cell_type": "code",
   "execution_count": 18,
   "id": "003c7d94",
   "metadata": {},
   "outputs": [],
   "source": [
    "leclerc_stint1_race = transformed_laps2[(transformed_laps2[\"Driver\"] == \"LEC\") & (transformed_laps2[\"Stint\"] == 1.0)]\n",
    "\n",
    "leclerc_stint_fp2 = race_pace_laps_fp2[(race_pace_laps_fp2[\"Driver\"] == \"LEC\")]"
   ]
  },
  {
   "cell_type": "code",
   "execution_count": 13,
   "id": "2d054cb1",
   "metadata": {},
   "outputs": [],
   "source": [
    "import matplotlib.pyplot as plt\n",
    "import matplotlib.ticker as ticker\n",
    "\n",
    "class LeclercStintStyledPlot:\n",
    "    def __init__(self, race_stint_df, fp2_df):\n",
    "        self.race_stint_df = race_stint_df.copy().reset_index(drop=True)\n",
    "        self.fp2_df = fp2_df.copy().reset_index(drop=True)\n",
    "\n",
    "        # Start from Lap 1\n",
    "        self.race_stint_df['LapNumber'] = range(1, len(self.race_stint_df) + 1)\n",
    "        self.fp2_df['LapNumber'] = range(1, len(self.fp2_df) + 1)\n",
    "\n",
    "    def plot(self, title=\"Leclerc - Race Stint 1 vs FP2 Pace\"):\n",
    "        plt.style.use('dark_background')\n",
    "        fig, ax = plt.subplots(figsize=(16, 8))\n",
    "        ax.set_facecolor('#0f111a'); fig.patch.set_facecolor('#0f111a')\n",
    "        ax.grid(True, linestyle='--', alpha=0.4)\n",
    "\n",
    "        # Plot lines\n",
    "        ax.plot(\n",
    "            self.race_stint_df['LapNumber'],\n",
    "            self.race_stint_df['LapTime (s)'],\n",
    "            color='red',\n",
    "            linewidth=2.5,\n",
    "            alpha=0.85,\n",
    "            solid_capstyle='round'\n",
    "        )\n",
    "        ax.plot(\n",
    "            self.fp2_df['LapNumber'],\n",
    "            self.fp2_df['LapTime (s)'],\n",
    "            color='white',\n",
    "            linewidth=2.5,\n",
    "            alpha=0.85,\n",
    "            solid_capstyle='round'\n",
    "        )\n",
    "\n",
    "        # Y-axis formatting\n",
    "        def format_time(x, pos):\n",
    "            minutes = int(x // 60)\n",
    "            seconds = x % 60\n",
    "            return f\"{minutes}:{seconds:04.1f}\"\n",
    "        ax.yaxis.set_major_formatter(ticker.FuncFormatter(format_time))\n",
    "\n",
    "        # Axis + title styling\n",
    "        ax.set_xlabel(\"Lap\", color='white', fontsize=14)\n",
    "        ax.set_ylabel(\"Lap Time\", color='white', fontsize=14)\n",
    "        ax.set_title(title, color='white', fontsize=20)\n",
    "        ax.tick_params(colors='white')\n",
    "        for spine in ax.spines.values():\n",
    "            spine.set_edgecolor('#44475a')\n",
    "\n",
    "        # Inline end-of-line labels instead of legend\n",
    "        race_last = self.race_stint_df.iloc[-1]\n",
    "        fp2_last = self.fp2_df.iloc[-1]\n",
    "\n",
    "        ax.text(\n",
    "            race_last['LapNumber'] + 0.5,\n",
    "            race_last['LapTime (s)'],\n",
    "            \"Race Stint 1\",\n",
    "            color='red',\n",
    "            fontsize=11,\n",
    "            fontweight='bold',\n",
    "            va='center'\n",
    "        )\n",
    "        ax.text(\n",
    "            fp2_last['LapNumber'] + 0.5,\n",
    "            fp2_last['LapTime (s)'],\n",
    "            \"FP2 Pace\",\n",
    "            color='white',\n",
    "            fontsize=11,\n",
    "            fontweight='bold',\n",
    "            va='center'\n",
    "        )\n",
    "\n",
    "        # Signature\n",
    "        fig.text(0.9, 0.88, \"Provided by:\\nPietro Paolo Melella\",\n",
    "                 ha='right', va='bottom', color='white', fontsize=13)\n",
    "\n",
    "        plt.tight_layout()\n",
    "        plt.show()"
   ]
  },
  {
   "cell_type": "code",
   "execution_count": 14,
   "id": "216179ce",
   "metadata": {},
   "outputs": [
    {
     "data": {
      "image/png": "[encoded data removed]",
      "text/plain": [
       "<Figure size 1600x800 with 1 Axes>"
      ]
     },
     "metadata": {},
     "output_type": "display_data"
    }
   ],
   "source": [
    "plotter = LeclercStintStyledPlot(leclerc_stint1_race, leclerc_stint_fp2)\n",
    "plotter.plot()"
   ]
  }
 ],
 "metadata": {
  "kernelspec": {
   "display_name": "progLab",
   "language": "python",
   "name": "python3"
  },
  "language_info": {
   "codemirror_mode": {
    "name": "ipython",
    "version": 3
   },
   "file_extension": ".py",
   "mimetype": "text/x-python",
   "name": "python",
   "nbconvert_exporter": "python",
   "pygments_lexer": "ipython3",
   "version": "3.9.13"
  }
 },
 "nbformat": 4,
 "nbformat_minor": 5
}
